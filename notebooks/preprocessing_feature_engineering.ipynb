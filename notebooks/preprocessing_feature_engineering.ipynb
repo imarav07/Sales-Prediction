{
 "cells": [
  {
   "cell_type": "code",
   "execution_count": 3,
   "metadata": {},
   "outputs": [],
   "source": [
    "# importing pre-requisite libraries\n",
    "import os\n",
    "import sys"
   ]
  },
  {
   "cell_type": "code",
   "execution_count": 4,
   "metadata": {},
   "outputs": [
    {
     "name": "stdout",
     "output_type": "stream",
     "text": [
      "c:\\Aravind's File\\Projects\\Sales-Prediction\n"
     ]
    }
   ],
   "source": [
    "# Get the absolute path of the credit_risk package\n",
    "project_root = os.path.abspath(os.path.join(os.getcwd(), \"..\"))\n",
    "sys.path.append(project_root)\n",
    "print(project_root)"
   ]
  },
  {
   "cell_type": "code",
   "execution_count": 5,
   "metadata": {},
   "outputs": [],
   "source": [
    "#importing the modules from the package\n",
    "from utils.utils import *\n",
    "from utils.preprocessing.preprocess import *"
   ]
  },
  {
   "cell_type": "code",
   "execution_count": 6,
   "metadata": {},
   "outputs": [
    {
     "data": {
      "text/plain": [
       "{'data': {'path': \"C:/Aravind's File/Projects/Sales-Prediction/data/\",\n",
       "  'sales_data': 'Walmart.csv',\n",
       "  'preprocessed_data': 'preprocessed_data.parquet',\n",
       "  'feature_engineered_data': 'feature_engineered_data.parquet',\n",
       "  'model_input_data': 'model_input_data.parquet'}}"
      ]
     },
     "execution_count": 6,
     "metadata": {},
     "output_type": "execute_result"
    }
   ],
   "source": [
    "config_ = load_config()\n",
    "config_"
   ]
  },
  {
   "cell_type": "code",
   "execution_count": 7,
   "metadata": {},
   "outputs": [
    {
     "data": {
      "text/plain": [
       "{'path': \"C:/Aravind's File/Projects/Sales-Prediction/data/\",\n",
       " 'sales_data': 'Walmart.csv',\n",
       " 'preprocessed_data': 'preprocessed_data.parquet',\n",
       " 'feature_engineered_data': 'feature_engineered_data.parquet',\n",
       " 'model_input_data': 'model_input_data.parquet'}"
      ]
     },
     "execution_count": 7,
     "metadata": {},
     "output_type": "execute_result"
    }
   ],
   "source": [
    "data_path_list = return_config_params('data')\n",
    "data_path_list"
   ]
  },
  {
   "cell_type": "code",
   "execution_count": 8,
   "metadata": {},
   "outputs": [
    {
     "data": {
      "text/html": [
       "<div>\n",
       "<style scoped>\n",
       "    .dataframe tbody tr th:only-of-type {\n",
       "        vertical-align: middle;\n",
       "    }\n",
       "\n",
       "    .dataframe tbody tr th {\n",
       "        vertical-align: top;\n",
       "    }\n",
       "\n",
       "    .dataframe thead th {\n",
       "        text-align: right;\n",
       "    }\n",
       "</style>\n",
       "<table border=\"1\" class=\"dataframe\">\n",
       "  <thead>\n",
       "    <tr style=\"text-align: right;\">\n",
       "      <th></th>\n",
       "      <th>Store</th>\n",
       "      <th>Date</th>\n",
       "      <th>Weekly_Sales</th>\n",
       "      <th>Holiday_Flag</th>\n",
       "      <th>Temperature</th>\n",
       "      <th>Fuel_Price</th>\n",
       "      <th>CPI</th>\n",
       "      <th>Unemployment</th>\n",
       "    </tr>\n",
       "  </thead>\n",
       "  <tbody>\n",
       "    <tr>\n",
       "      <th>0</th>\n",
       "      <td>1</td>\n",
       "      <td>05-02-2010</td>\n",
       "      <td>1643690.90</td>\n",
       "      <td>0</td>\n",
       "      <td>42.31</td>\n",
       "      <td>2.572</td>\n",
       "      <td>211.096358</td>\n",
       "      <td>8.106</td>\n",
       "    </tr>\n",
       "    <tr>\n",
       "      <th>1</th>\n",
       "      <td>1</td>\n",
       "      <td>12-02-2010</td>\n",
       "      <td>1641957.44</td>\n",
       "      <td>1</td>\n",
       "      <td>38.51</td>\n",
       "      <td>2.548</td>\n",
       "      <td>211.242170</td>\n",
       "      <td>8.106</td>\n",
       "    </tr>\n",
       "    <tr>\n",
       "      <th>2</th>\n",
       "      <td>1</td>\n",
       "      <td>19-02-2010</td>\n",
       "      <td>1611968.17</td>\n",
       "      <td>0</td>\n",
       "      <td>39.93</td>\n",
       "      <td>2.514</td>\n",
       "      <td>211.289143</td>\n",
       "      <td>8.106</td>\n",
       "    </tr>\n",
       "    <tr>\n",
       "      <th>3</th>\n",
       "      <td>1</td>\n",
       "      <td>26-02-2010</td>\n",
       "      <td>1409727.59</td>\n",
       "      <td>0</td>\n",
       "      <td>46.63</td>\n",
       "      <td>2.561</td>\n",
       "      <td>211.319643</td>\n",
       "      <td>8.106</td>\n",
       "    </tr>\n",
       "    <tr>\n",
       "      <th>4</th>\n",
       "      <td>1</td>\n",
       "      <td>05-03-2010</td>\n",
       "      <td>1554806.68</td>\n",
       "      <td>0</td>\n",
       "      <td>46.50</td>\n",
       "      <td>2.625</td>\n",
       "      <td>211.350143</td>\n",
       "      <td>8.106</td>\n",
       "    </tr>\n",
       "  </tbody>\n",
       "</table>\n",
       "</div>"
      ],
      "text/plain": [
       "   Store        Date  Weekly_Sales  Holiday_Flag  Temperature  Fuel_Price  \\\n",
       "0      1  05-02-2010    1643690.90             0        42.31       2.572   \n",
       "1      1  12-02-2010    1641957.44             1        38.51       2.548   \n",
       "2      1  19-02-2010    1611968.17             0        39.93       2.514   \n",
       "3      1  26-02-2010    1409727.59             0        46.63       2.561   \n",
       "4      1  05-03-2010    1554806.68             0        46.50       2.625   \n",
       "\n",
       "          CPI  Unemployment  \n",
       "0  211.096358         8.106  \n",
       "1  211.242170         8.106  \n",
       "2  211.289143         8.106  \n",
       "3  211.319643         8.106  \n",
       "4  211.350143         8.106  "
      ]
     },
     "execution_count": 8,
     "metadata": {},
     "output_type": "execute_result"
    }
   ],
   "source": [
    "# Load the data\n",
    "sales_data = pd.read_csv(os.path.join(data_path_list['path'], data_path_list['sales_data']))\n",
    "sales_data.head()"
   ]
  },
  {
   "cell_type": "markdown",
   "metadata": {},
   "source": [
    "# Preprocessing"
   ]
  },
  {
   "cell_type": "markdown",
   "metadata": {},
   "source": [
    "## 1. Data type detection and conversion"
   ]
  },
  {
   "cell_type": "code",
   "execution_count": 9,
   "metadata": {},
   "outputs": [
    {
     "data": {
      "text/html": [
       "<div>\n",
       "<style scoped>\n",
       "    .dataframe tbody tr th:only-of-type {\n",
       "        vertical-align: middle;\n",
       "    }\n",
       "\n",
       "    .dataframe tbody tr th {\n",
       "        vertical-align: top;\n",
       "    }\n",
       "\n",
       "    .dataframe thead th {\n",
       "        text-align: right;\n",
       "    }\n",
       "</style>\n",
       "<table border=\"1\" class=\"dataframe\">\n",
       "  <thead>\n",
       "    <tr style=\"text-align: right;\">\n",
       "      <th></th>\n",
       "      <th>Store</th>\n",
       "      <th>Date</th>\n",
       "      <th>Weekly_Sales</th>\n",
       "      <th>Holiday_Flag</th>\n",
       "      <th>Temperature</th>\n",
       "      <th>Fuel_Price</th>\n",
       "      <th>CPI</th>\n",
       "      <th>Unemployment</th>\n",
       "      <th>year</th>\n",
       "      <th>month</th>\n",
       "      <th>day</th>\n",
       "    </tr>\n",
       "  </thead>\n",
       "  <tbody>\n",
       "    <tr>\n",
       "      <th>0</th>\n",
       "      <td>1</td>\n",
       "      <td>2010-02-05</td>\n",
       "      <td>1643690.90</td>\n",
       "      <td>0</td>\n",
       "      <td>42.31</td>\n",
       "      <td>2.572</td>\n",
       "      <td>211.096358</td>\n",
       "      <td>8.106</td>\n",
       "      <td>2010</td>\n",
       "      <td>2</td>\n",
       "      <td>5</td>\n",
       "    </tr>\n",
       "    <tr>\n",
       "      <th>1</th>\n",
       "      <td>1</td>\n",
       "      <td>2010-02-12</td>\n",
       "      <td>1641957.44</td>\n",
       "      <td>1</td>\n",
       "      <td>38.51</td>\n",
       "      <td>2.548</td>\n",
       "      <td>211.242170</td>\n",
       "      <td>8.106</td>\n",
       "      <td>2010</td>\n",
       "      <td>2</td>\n",
       "      <td>12</td>\n",
       "    </tr>\n",
       "    <tr>\n",
       "      <th>2</th>\n",
       "      <td>1</td>\n",
       "      <td>2010-02-19</td>\n",
       "      <td>1611968.17</td>\n",
       "      <td>0</td>\n",
       "      <td>39.93</td>\n",
       "      <td>2.514</td>\n",
       "      <td>211.289143</td>\n",
       "      <td>8.106</td>\n",
       "      <td>2010</td>\n",
       "      <td>2</td>\n",
       "      <td>19</td>\n",
       "    </tr>\n",
       "    <tr>\n",
       "      <th>3</th>\n",
       "      <td>1</td>\n",
       "      <td>2010-02-26</td>\n",
       "      <td>1409727.59</td>\n",
       "      <td>0</td>\n",
       "      <td>46.63</td>\n",
       "      <td>2.561</td>\n",
       "      <td>211.319643</td>\n",
       "      <td>8.106</td>\n",
       "      <td>2010</td>\n",
       "      <td>2</td>\n",
       "      <td>26</td>\n",
       "    </tr>\n",
       "    <tr>\n",
       "      <th>4</th>\n",
       "      <td>1</td>\n",
       "      <td>2010-03-05</td>\n",
       "      <td>1554806.68</td>\n",
       "      <td>0</td>\n",
       "      <td>46.50</td>\n",
       "      <td>2.625</td>\n",
       "      <td>211.350143</td>\n",
       "      <td>8.106</td>\n",
       "      <td>2010</td>\n",
       "      <td>3</td>\n",
       "      <td>5</td>\n",
       "    </tr>\n",
       "  </tbody>\n",
       "</table>\n",
       "</div>"
      ],
      "text/plain": [
       "   Store       Date  Weekly_Sales  Holiday_Flag  Temperature  Fuel_Price  \\\n",
       "0      1 2010-02-05    1643690.90             0        42.31       2.572   \n",
       "1      1 2010-02-12    1641957.44             1        38.51       2.548   \n",
       "2      1 2010-02-19    1611968.17             0        39.93       2.514   \n",
       "3      1 2010-02-26    1409727.59             0        46.63       2.561   \n",
       "4      1 2010-03-05    1554806.68             0        46.50       2.625   \n",
       "\n",
       "          CPI  Unemployment  year  month  day  \n",
       "0  211.096358         8.106  2010      2    5  \n",
       "1  211.242170         8.106  2010      2   12  \n",
       "2  211.289143         8.106  2010      2   19  \n",
       "3  211.319643         8.106  2010      2   26  \n",
       "4  211.350143         8.106  2010      3    5  "
      ]
     },
     "execution_count": 9,
     "metadata": {},
     "output_type": "execute_result"
    }
   ],
   "source": [
    "sales_data_2 = create_date_variables(sales_data, 'Date')\n",
    "sales_data_2.head()"
   ]
  },
  {
   "cell_type": "code",
   "execution_count": 10,
   "metadata": {},
   "outputs": [
    {
     "name": "stdout",
     "output_type": "stream",
     "text": [
      "Feature 'Store' has 45 unique values and might be categorical.\n",
      "Feature 'Weekly_Sales' is likely numerical with 6435 unique values.\n",
      "Feature 'Holiday_Flag' has 2 unique values and might be categorical.\n",
      "Feature 'Temperature' is likely numerical with 3528 unique values.\n",
      "Feature 'Fuel_Price' is likely numerical with 892 unique values.\n",
      "Feature 'CPI' is likely numerical with 2145 unique values.\n",
      "Feature 'Unemployment' is likely numerical with 349 unique values.\n",
      "Feature 'year' has 3 unique values and might be categorical.\n",
      "Feature 'month' has 12 unique values and might be categorical.\n",
      "Feature 'day' has 31 unique values and might be categorical.\n",
      "Numerical features: ['Weekly_Sales', 'Temperature', 'Fuel_Price', 'CPI', 'Unemployment']\n",
      "Categorical features: ['Store', 'Holiday_Flag', 'year', 'month', 'day']\n",
      "Date features: ['Date']\n"
     ]
    }
   ],
   "source": [
    "# check numerical and categorical variables and automatically convert them to the right type\n",
    "def check_data_types(df):\n",
    "    # Get the data types of all columns\n",
    "    numerical_features = df.select_dtypes(include=['int64', 'float64']).columns.tolist()\n",
    "    categorical_features = df.select_dtypes(include=['object']).columns.tolist()\n",
    "    date_features = df.select_dtypes(include=['datetime64[ns]']).columns.tolist()\n",
    "\n",
    "    # Check for features that might be misclassified (e.g., numerical IDs stored as objects)\n",
    "    for col in df.columns:\n",
    "        if col not in date_features:\n",
    "            unique_values = df[col].nunique()\n",
    "            if unique_values < 100:  # Arbitrary threshold for categorical-like behavior\n",
    "                print(f\"Feature '{col}' has {unique_values} unique values and might be categorical.\")\n",
    "                numerical_features.remove(col) if col in numerical_features else None\n",
    "                categorical_features.append(col) if col not in categorical_features else None\n",
    "            else:\n",
    "                print(f\"Feature '{col}' is likely numerical with {unique_values} unique values.\")\n",
    "\n",
    "    print(f\"Numerical features: {numerical_features}\")\n",
    "    print(f\"Categorical features: {categorical_features}\")\n",
    "    print(f\"Date features: {date_features}\")\n",
    "\n",
    "    return df, numerical_features, categorical_features, date_features\n",
    "sales_data_3, numerical_features, categorical_features, date_features = check_data_types(sales_data_2)"
   ]
  },
  {
   "cell_type": "code",
   "execution_count": 11,
   "metadata": {},
   "outputs": [
    {
     "data": {
      "text/plain": [
       "Store                 category\n",
       "Date            datetime64[ns]\n",
       "Weekly_Sales           float64\n",
       "Holiday_Flag          category\n",
       "Temperature            float64\n",
       "Fuel_Price             float64\n",
       "CPI                    float64\n",
       "Unemployment           float64\n",
       "year                  category\n",
       "month                 category\n",
       "day                   category\n",
       "dtype: object"
      ]
     },
     "execution_count": 11,
     "metadata": {},
     "output_type": "execute_result"
    }
   ],
   "source": [
    "# converting the variables to the right type as per the check_data_types function\n",
    "def convert_data_types(df, numerical_features, categorical_features):\n",
    "    # Convert categorical features to 'category' type\n",
    "    for col in categorical_features:\n",
    "        df[col] = df[col].astype('category')\n",
    "\n",
    "    # Convert numerical features to 'float64' type\n",
    "    for col in numerical_features:\n",
    "        df[col] = df[col].astype('float64')\n",
    "\n",
    "    return df\n",
    "\n",
    "sales_data_4 = convert_data_types(sales_data_3, numerical_features, categorical_features)\n",
    "sales_data_4.dtypes"
   ]
  },
  {
   "cell_type": "code",
   "execution_count": 12,
   "metadata": {},
   "outputs": [],
   "source": [
    "for i in ['day', 'month']:\n",
    "    sales_data_4[i] = sales_data_4[i].astype('float64')"
   ]
  },
  {
   "cell_type": "markdown",
   "metadata": {},
   "source": [
    "## 2. Outlier treatment"
   ]
  },
  {
   "cell_type": "code",
   "execution_count": 13,
   "metadata": {},
   "outputs": [
    {
     "data": {
      "text/html": [
       "<div>\n",
       "<style scoped>\n",
       "    .dataframe tbody tr th:only-of-type {\n",
       "        vertical-align: middle;\n",
       "    }\n",
       "\n",
       "    .dataframe tbody tr th {\n",
       "        vertical-align: top;\n",
       "    }\n",
       "\n",
       "    .dataframe thead th {\n",
       "        text-align: right;\n",
       "    }\n",
       "</style>\n",
       "<table border=\"1\" class=\"dataframe\">\n",
       "  <thead>\n",
       "    <tr style=\"text-align: right;\">\n",
       "      <th></th>\n",
       "      <th>Date</th>\n",
       "      <th>Weekly_Sales</th>\n",
       "      <th>Temperature</th>\n",
       "      <th>Fuel_Price</th>\n",
       "      <th>CPI</th>\n",
       "      <th>Unemployment</th>\n",
       "      <th>month</th>\n",
       "      <th>day</th>\n",
       "    </tr>\n",
       "  </thead>\n",
       "  <tbody>\n",
       "    <tr>\n",
       "      <th>count</th>\n",
       "      <td>5917</td>\n",
       "      <td>5.917000e+03</td>\n",
       "      <td>5917.000000</td>\n",
       "      <td>5917.000000</td>\n",
       "      <td>5917.000000</td>\n",
       "      <td>5917.000000</td>\n",
       "      <td>5917.000000</td>\n",
       "      <td>5917.000000</td>\n",
       "    </tr>\n",
       "    <tr>\n",
       "      <th>mean</th>\n",
       "      <td>2011-06-14 17:15:31.485550080</td>\n",
       "      <td>1.039313e+06</td>\n",
       "      <td>60.433407</td>\n",
       "      <td>3.340543</td>\n",
       "      <td>175.023148</td>\n",
       "      <td>7.722305</td>\n",
       "      <td>6.444989</td>\n",
       "      <td>15.645935</td>\n",
       "    </tr>\n",
       "    <tr>\n",
       "      <th>min</th>\n",
       "      <td>2010-02-05 00:00:00</td>\n",
       "      <td>2.099862e+05</td>\n",
       "      <td>7.460000</td>\n",
       "      <td>2.472000</td>\n",
       "      <td>126.064000</td>\n",
       "      <td>4.308000</td>\n",
       "      <td>1.000000</td>\n",
       "      <td>1.000000</td>\n",
       "    </tr>\n",
       "    <tr>\n",
       "      <th>25%</th>\n",
       "      <td>2010-10-08 00:00:00</td>\n",
       "      <td>5.525292e+05</td>\n",
       "      <td>46.980000</td>\n",
       "      <td>2.891000</td>\n",
       "      <td>132.767067</td>\n",
       "      <td>6.891000</td>\n",
       "      <td>4.000000</td>\n",
       "      <td>8.000000</td>\n",
       "    </tr>\n",
       "    <tr>\n",
       "      <th>50%</th>\n",
       "      <td>2011-06-10 00:00:00</td>\n",
       "      <td>9.472292e+05</td>\n",
       "      <td>62.620000</td>\n",
       "      <td>3.420000</td>\n",
       "      <td>190.006988</td>\n",
       "      <td>7.852000</td>\n",
       "      <td>6.000000</td>\n",
       "      <td>16.000000</td>\n",
       "    </tr>\n",
       "    <tr>\n",
       "      <th>75%</th>\n",
       "      <td>2012-02-17 00:00:00</td>\n",
       "      <td>1.427624e+06</td>\n",
       "      <td>74.730000</td>\n",
       "      <td>3.721000</td>\n",
       "      <td>213.799099</td>\n",
       "      <td>8.494000</td>\n",
       "      <td>9.000000</td>\n",
       "      <td>23.000000</td>\n",
       "    </tr>\n",
       "    <tr>\n",
       "      <th>max</th>\n",
       "      <td>2012-10-26 00:00:00</td>\n",
       "      <td>2.685352e+06</td>\n",
       "      <td>100.140000</td>\n",
       "      <td>4.468000</td>\n",
       "      <td>227.232807</td>\n",
       "      <td>10.926000</td>\n",
       "      <td>12.000000</td>\n",
       "      <td>31.000000</td>\n",
       "    </tr>\n",
       "    <tr>\n",
       "      <th>std</th>\n",
       "      <td>NaN</td>\n",
       "      <td>5.519450e+05</td>\n",
       "      <td>18.386455</td>\n",
       "      <td>0.458200</td>\n",
       "      <td>39.023139</td>\n",
       "      <td>1.243337</td>\n",
       "      <td>3.220417</td>\n",
       "      <td>8.761115</td>\n",
       "    </tr>\n",
       "  </tbody>\n",
       "</table>\n",
       "</div>"
      ],
      "text/plain": [
       "                                Date  Weekly_Sales  Temperature   Fuel_Price  \\\n",
       "count                           5917  5.917000e+03  5917.000000  5917.000000   \n",
       "mean   2011-06-14 17:15:31.485550080  1.039313e+06    60.433407     3.340543   \n",
       "min              2010-02-05 00:00:00  2.099862e+05     7.460000     2.472000   \n",
       "25%              2010-10-08 00:00:00  5.525292e+05    46.980000     2.891000   \n",
       "50%              2011-06-10 00:00:00  9.472292e+05    62.620000     3.420000   \n",
       "75%              2012-02-17 00:00:00  1.427624e+06    74.730000     3.721000   \n",
       "max              2012-10-26 00:00:00  2.685352e+06   100.140000     4.468000   \n",
       "std                              NaN  5.519450e+05    18.386455     0.458200   \n",
       "\n",
       "               CPI  Unemployment        month          day  \n",
       "count  5917.000000   5917.000000  5917.000000  5917.000000  \n",
       "mean    175.023148      7.722305     6.444989    15.645935  \n",
       "min     126.064000      4.308000     1.000000     1.000000  \n",
       "25%     132.767067      6.891000     4.000000     8.000000  \n",
       "50%     190.006988      7.852000     6.000000    16.000000  \n",
       "75%     213.799099      8.494000     9.000000    23.000000  \n",
       "max     227.232807     10.926000    12.000000    31.000000  \n",
       "std      39.023139      1.243337     3.220417     8.761115  "
      ]
     },
     "execution_count": 13,
     "metadata": {},
     "output_type": "execute_result"
    }
   ],
   "source": [
    "# removing outliers from the data\n",
    "def remove_outliers(df, numerical_features):\n",
    "    for col in numerical_features:\n",
    "        # Calculate the IQR\n",
    "        Q1 = df[col].quantile(0.25)\n",
    "        Q3 = df[col].quantile(0.75)\n",
    "        IQR = Q3 - Q1\n",
    "\n",
    "        # Define the bounds for outliers\n",
    "        lower_bound = Q1 - 1.5 * IQR\n",
    "        upper_bound = Q3 + 1.5 * IQR\n",
    "\n",
    "        # Remove outliers\n",
    "        df = df[(df[col] >= lower_bound) & (df[col] <= upper_bound)]\n",
    "\n",
    "    return df\n",
    "sales_data_5 = remove_outliers(sales_data_4, numerical_features)\n",
    "sales_data_5.describe()"
   ]
  },
  {
   "cell_type": "markdown",
   "metadata": {},
   "source": [
    "1. Before Outliers we had 6435 samples and after removing outliers considering all numerical features we have 5917 samples"
   ]
  },
  {
   "cell_type": "markdown",
   "metadata": {},
   "source": [
    "# Feature Engineering "
   ]
  },
  {
   "cell_type": "markdown",
   "metadata": {},
   "source": [
    "## 1. CPI Binning\n",
    "We are binning the CPI column since it had two clusters type of data"
   ]
  },
  {
   "cell_type": "code",
   "execution_count": 14,
   "metadata": {},
   "outputs": [],
   "source": [
    "# sales_data_5['CPI_Binned'] = pd.qcut(sales_data_5['CPI'], q=4, labels=False)\n",
    "# sales_data_5['CPI_Binned'] = sales_data_5['CPI_Binned'].astype('category')\n",
    "# sales_data_5['CPI_Binned'].value_counts()"
   ]
  },
  {
   "cell_type": "code",
   "execution_count": 15,
   "metadata": {},
   "outputs": [],
   "source": [
    "# cpi_stats = sales_data_5.groupby('CPI_Binned')['CPI'].agg(['min', 'max']).reset_index()\n",
    "# cpi_stats"
   ]
  },
  {
   "cell_type": "markdown",
   "metadata": {},
   "source": [
    "## 2. Scaling the input variables"
   ]
  },
  {
   "cell_type": "code",
   "execution_count": 16,
   "metadata": {},
   "outputs": [],
   "source": [
    "numerical_features.remove('Weekly_Sales')\n",
    "# numerical_features.remove('CPI')"
   ]
  },
  {
   "cell_type": "code",
   "execution_count": 17,
   "metadata": {},
   "outputs": [
    {
     "data": {
      "text/plain": [
       "['Temperature', 'Fuel_Price', 'CPI', 'Unemployment']"
      ]
     },
     "execution_count": 17,
     "metadata": {},
     "output_type": "execute_result"
    }
   ],
   "source": [
    "numerical_features"
   ]
  },
  {
   "cell_type": "code",
   "execution_count": 18,
   "metadata": {},
   "outputs": [],
   "source": [
    "from sklearn.preprocessing import StandardScaler"
   ]
  },
  {
   "cell_type": "code",
   "execution_count": 19,
   "metadata": {},
   "outputs": [],
   "source": [
    "scaler = StandardScaler()"
   ]
  },
  {
   "cell_type": "code",
   "execution_count": 20,
   "metadata": {},
   "outputs": [
    {
     "data": {
      "text/html": [
       "<div>\n",
       "<style scoped>\n",
       "    .dataframe tbody tr th:only-of-type {\n",
       "        vertical-align: middle;\n",
       "    }\n",
       "\n",
       "    .dataframe tbody tr th {\n",
       "        vertical-align: top;\n",
       "    }\n",
       "\n",
       "    .dataframe thead th {\n",
       "        text-align: right;\n",
       "    }\n",
       "</style>\n",
       "<table border=\"1\" class=\"dataframe\">\n",
       "  <thead>\n",
       "    <tr style=\"text-align: right;\">\n",
       "      <th></th>\n",
       "      <th>Temperature</th>\n",
       "      <th>Fuel_Price</th>\n",
       "      <th>CPI</th>\n",
       "      <th>Unemployment</th>\n",
       "    </tr>\n",
       "  </thead>\n",
       "  <tbody>\n",
       "    <tr>\n",
       "      <th>0</th>\n",
       "      <td>-0.985777</td>\n",
       "      <td>-1.677452</td>\n",
       "      <td>0.924484</td>\n",
       "      <td>0.308627</td>\n",
       "    </tr>\n",
       "    <tr>\n",
       "      <th>1</th>\n",
       "      <td>-1.192468</td>\n",
       "      <td>-1.729835</td>\n",
       "      <td>0.928221</td>\n",
       "      <td>0.308627</td>\n",
       "    </tr>\n",
       "    <tr>\n",
       "      <th>2</th>\n",
       "      <td>-1.115231</td>\n",
       "      <td>-1.804045</td>\n",
       "      <td>0.929424</td>\n",
       "      <td>0.308627</td>\n",
       "    </tr>\n",
       "    <tr>\n",
       "      <th>3</th>\n",
       "      <td>-0.750801</td>\n",
       "      <td>-1.701461</td>\n",
       "      <td>0.930206</td>\n",
       "      <td>0.308627</td>\n",
       "    </tr>\n",
       "    <tr>\n",
       "      <th>4</th>\n",
       "      <td>-0.757872</td>\n",
       "      <td>-1.561772</td>\n",
       "      <td>0.930988</td>\n",
       "      <td>0.308627</td>\n",
       "    </tr>\n",
       "  </tbody>\n",
       "</table>\n",
       "</div>"
      ],
      "text/plain": [
       "   Temperature  Fuel_Price       CPI  Unemployment\n",
       "0    -0.985777   -1.677452  0.924484      0.308627\n",
       "1    -1.192468   -1.729835  0.928221      0.308627\n",
       "2    -1.115231   -1.804045  0.929424      0.308627\n",
       "3    -0.750801   -1.701461  0.930206      0.308627\n",
       "4    -0.757872   -1.561772  0.930988      0.308627"
      ]
     },
     "execution_count": 20,
     "metadata": {},
     "output_type": "execute_result"
    }
   ],
   "source": [
    "# scaling numerical features\n",
    "sales_data_5[numerical_features] = scaler.fit_transform(sales_data_5[numerical_features])\n",
    "sales_data_5[numerical_features].head()"
   ]
  },
  {
   "cell_type": "code",
   "execution_count": 21,
   "metadata": {},
   "outputs": [
    {
     "data": {
      "text/html": [
       "<div>\n",
       "<style scoped>\n",
       "    .dataframe tbody tr th:only-of-type {\n",
       "        vertical-align: middle;\n",
       "    }\n",
       "\n",
       "    .dataframe tbody tr th {\n",
       "        vertical-align: top;\n",
       "    }\n",
       "\n",
       "    .dataframe thead th {\n",
       "        text-align: right;\n",
       "    }\n",
       "</style>\n",
       "<table border=\"1\" class=\"dataframe\">\n",
       "  <thead>\n",
       "    <tr style=\"text-align: right;\">\n",
       "      <th></th>\n",
       "      <th>Temperature</th>\n",
       "      <th>Fuel_Price</th>\n",
       "      <th>CPI</th>\n",
       "      <th>Unemployment</th>\n",
       "    </tr>\n",
       "  </thead>\n",
       "  <tbody>\n",
       "    <tr>\n",
       "      <th>count</th>\n",
       "      <td>5.917000e+03</td>\n",
       "      <td>5.917000e+03</td>\n",
       "      <td>5.917000e+03</td>\n",
       "      <td>5.917000e+03</td>\n",
       "    </tr>\n",
       "    <tr>\n",
       "      <th>mean</th>\n",
       "      <td>2.161529e-16</td>\n",
       "      <td>2.593835e-16</td>\n",
       "      <td>-6.724758e-17</td>\n",
       "      <td>3.458447e-16</td>\n",
       "    </tr>\n",
       "    <tr>\n",
       "      <th>std</th>\n",
       "      <td>1.000085e+00</td>\n",
       "      <td>1.000085e+00</td>\n",
       "      <td>1.000085e+00</td>\n",
       "      <td>1.000085e+00</td>\n",
       "    </tr>\n",
       "    <tr>\n",
       "      <th>min</th>\n",
       "      <td>-2.881354e+00</td>\n",
       "      <td>-1.895716e+00</td>\n",
       "      <td>-1.254724e+00</td>\n",
       "      <td>-2.746314e+00</td>\n",
       "    </tr>\n",
       "    <tr>\n",
       "      <th>25%</th>\n",
       "      <td>-7.317639e-01</td>\n",
       "      <td>-9.811898e-01</td>\n",
       "      <td>-1.082938e+00</td>\n",
       "      <td>-6.686644e-01</td>\n",
       "    </tr>\n",
       "    <tr>\n",
       "      <th>50%</th>\n",
       "      <td>1.189342e-01</td>\n",
       "      <td>1.734263e-01</td>\n",
       "      <td>3.840057e-01</td>\n",
       "      <td>1.043209e-01</td>\n",
       "    </tr>\n",
       "    <tr>\n",
       "      <th>75%</th>\n",
       "      <td>7.776269e-01</td>\n",
       "      <td>8.304006e-01</td>\n",
       "      <td>9.937496e-01</td>\n",
       "      <td>6.207170e-01</td>\n",
       "    </tr>\n",
       "    <tr>\n",
       "      <th>max</th>\n",
       "      <td>2.159739e+00</td>\n",
       "      <td>2.460832e+00</td>\n",
       "      <td>1.338028e+00</td>\n",
       "      <td>2.576909e+00</td>\n",
       "    </tr>\n",
       "  </tbody>\n",
       "</table>\n",
       "</div>"
      ],
      "text/plain": [
       "        Temperature    Fuel_Price           CPI  Unemployment\n",
       "count  5.917000e+03  5.917000e+03  5.917000e+03  5.917000e+03\n",
       "mean   2.161529e-16  2.593835e-16 -6.724758e-17  3.458447e-16\n",
       "std    1.000085e+00  1.000085e+00  1.000085e+00  1.000085e+00\n",
       "min   -2.881354e+00 -1.895716e+00 -1.254724e+00 -2.746314e+00\n",
       "25%   -7.317639e-01 -9.811898e-01 -1.082938e+00 -6.686644e-01\n",
       "50%    1.189342e-01  1.734263e-01  3.840057e-01  1.043209e-01\n",
       "75%    7.776269e-01  8.304006e-01  9.937496e-01  6.207170e-01\n",
       "max    2.159739e+00  2.460832e+00  1.338028e+00  2.576909e+00"
      ]
     },
     "execution_count": 21,
     "metadata": {},
     "output_type": "execute_result"
    }
   ],
   "source": [
    "sales_data_5[numerical_features].describe()"
   ]
  },
  {
   "cell_type": "code",
   "execution_count": 22,
   "metadata": {},
   "outputs": [
    {
     "data": {
      "text/plain": [
       "Index(['Store', 'Date', 'Weekly_Sales', 'Holiday_Flag', 'Temperature',\n",
       "       'Fuel_Price', 'CPI', 'Unemployment', 'year', 'month', 'day'],\n",
       "      dtype='object')"
      ]
     },
     "execution_count": 22,
     "metadata": {},
     "output_type": "execute_result"
    }
   ],
   "source": [
    "sales_data_5.columns"
   ]
  },
  {
   "cell_type": "code",
   "execution_count": 23,
   "metadata": {},
   "outputs": [],
   "source": [
    "import numpy as np\n",
    "\n",
    "# Apply log transformation\n",
    "sales_data_5['Weekly_Sales_Log'] = np.log1p(sales_data_5['Weekly_Sales'])  # log1p handles log(0) safely"
   ]
  },
  {
   "cell_type": "markdown",
   "metadata": {},
   "source": [
    "## 3. Model Inputs"
   ]
  },
  {
   "cell_type": "markdown",
   "metadata": {},
   "source": [
    "### 3.1 Input for Tree based models"
   ]
  },
  {
   "cell_type": "code",
   "execution_count": 24,
   "metadata": {},
   "outputs": [],
   "source": [
    "input_for_tree_models = sales_data_5.copy()"
   ]
  },
  {
   "cell_type": "code",
   "execution_count": 25,
   "metadata": {},
   "outputs": [
    {
     "data": {
      "text/html": [
       "<div>\n",
       "<style scoped>\n",
       "    .dataframe tbody tr th:only-of-type {\n",
       "        vertical-align: middle;\n",
       "    }\n",
       "\n",
       "    .dataframe tbody tr th {\n",
       "        vertical-align: top;\n",
       "    }\n",
       "\n",
       "    .dataframe thead th {\n",
       "        text-align: right;\n",
       "    }\n",
       "</style>\n",
       "<table border=\"1\" class=\"dataframe\">\n",
       "  <thead>\n",
       "    <tr style=\"text-align: right;\">\n",
       "      <th></th>\n",
       "      <th>Store</th>\n",
       "      <th>Date</th>\n",
       "      <th>Weekly_Sales</th>\n",
       "      <th>Holiday_Flag</th>\n",
       "      <th>Temperature</th>\n",
       "      <th>Fuel_Price</th>\n",
       "      <th>CPI</th>\n",
       "      <th>Unemployment</th>\n",
       "      <th>year</th>\n",
       "      <th>month</th>\n",
       "      <th>day</th>\n",
       "      <th>Weekly_Sales_Log</th>\n",
       "    </tr>\n",
       "  </thead>\n",
       "  <tbody>\n",
       "    <tr>\n",
       "      <th>0</th>\n",
       "      <td>1</td>\n",
       "      <td>2010-02-05</td>\n",
       "      <td>1643690.90</td>\n",
       "      <td>0</td>\n",
       "      <td>-0.985777</td>\n",
       "      <td>-1.677452</td>\n",
       "      <td>0.924484</td>\n",
       "      <td>0.308627</td>\n",
       "      <td>2010</td>\n",
       "      <td>2.0</td>\n",
       "      <td>5.0</td>\n",
       "      <td>14.312455</td>\n",
       "    </tr>\n",
       "    <tr>\n",
       "      <th>1</th>\n",
       "      <td>1</td>\n",
       "      <td>2010-02-12</td>\n",
       "      <td>1641957.44</td>\n",
       "      <td>1</td>\n",
       "      <td>-1.192468</td>\n",
       "      <td>-1.729835</td>\n",
       "      <td>0.928221</td>\n",
       "      <td>0.308627</td>\n",
       "      <td>2010</td>\n",
       "      <td>2.0</td>\n",
       "      <td>12.0</td>\n",
       "      <td>14.311400</td>\n",
       "    </tr>\n",
       "    <tr>\n",
       "      <th>2</th>\n",
       "      <td>1</td>\n",
       "      <td>2010-02-19</td>\n",
       "      <td>1611968.17</td>\n",
       "      <td>0</td>\n",
       "      <td>-1.115231</td>\n",
       "      <td>-1.804045</td>\n",
       "      <td>0.929424</td>\n",
       "      <td>0.308627</td>\n",
       "      <td>2010</td>\n",
       "      <td>2.0</td>\n",
       "      <td>19.0</td>\n",
       "      <td>14.292967</td>\n",
       "    </tr>\n",
       "    <tr>\n",
       "      <th>3</th>\n",
       "      <td>1</td>\n",
       "      <td>2010-02-26</td>\n",
       "      <td>1409727.59</td>\n",
       "      <td>0</td>\n",
       "      <td>-0.750801</td>\n",
       "      <td>-1.701461</td>\n",
       "      <td>0.930206</td>\n",
       "      <td>0.308627</td>\n",
       "      <td>2010</td>\n",
       "      <td>2.0</td>\n",
       "      <td>26.0</td>\n",
       "      <td>14.158908</td>\n",
       "    </tr>\n",
       "    <tr>\n",
       "      <th>4</th>\n",
       "      <td>1</td>\n",
       "      <td>2010-03-05</td>\n",
       "      <td>1554806.68</td>\n",
       "      <td>0</td>\n",
       "      <td>-0.757872</td>\n",
       "      <td>-1.561772</td>\n",
       "      <td>0.930988</td>\n",
       "      <td>0.308627</td>\n",
       "      <td>2010</td>\n",
       "      <td>3.0</td>\n",
       "      <td>5.0</td>\n",
       "      <td>14.256862</td>\n",
       "    </tr>\n",
       "    <tr>\n",
       "      <th>...</th>\n",
       "      <td>...</td>\n",
       "      <td>...</td>\n",
       "      <td>...</td>\n",
       "      <td>...</td>\n",
       "      <td>...</td>\n",
       "      <td>...</td>\n",
       "      <td>...</td>\n",
       "      <td>...</td>\n",
       "      <td>...</td>\n",
       "      <td>...</td>\n",
       "      <td>...</td>\n",
       "      <td>...</td>\n",
       "    </tr>\n",
       "    <tr>\n",
       "      <th>5912</th>\n",
       "      <td>45</td>\n",
       "      <td>2012-09-28</td>\n",
       "      <td>713173.95</td>\n",
       "      <td>0</td>\n",
       "      <td>0.241861</td>\n",
       "      <td>1.432809</td>\n",
       "      <td>0.435430</td>\n",
       "      <td>0.773544</td>\n",
       "      <td>2012</td>\n",
       "      <td>9.0</td>\n",
       "      <td>28.0</td>\n",
       "      <td>13.477482</td>\n",
       "    </tr>\n",
       "    <tr>\n",
       "      <th>5913</th>\n",
       "      <td>45</td>\n",
       "      <td>2012-10-05</td>\n",
       "      <td>733455.07</td>\n",
       "      <td>0</td>\n",
       "      <td>0.242405</td>\n",
       "      <td>1.406617</td>\n",
       "      <td>0.439450</td>\n",
       "      <td>0.759870</td>\n",
       "      <td>2012</td>\n",
       "      <td>10.0</td>\n",
       "      <td>5.0</td>\n",
       "      <td>13.505523</td>\n",
       "    </tr>\n",
       "    <tr>\n",
       "      <th>5914</th>\n",
       "      <td>45</td>\n",
       "      <td>2012-10-12</td>\n",
       "      <td>734464.36</td>\n",
       "      <td>0</td>\n",
       "      <td>-0.324364</td>\n",
       "      <td>1.439357</td>\n",
       "      <td>0.443470</td>\n",
       "      <td>0.759870</td>\n",
       "      <td>2012</td>\n",
       "      <td>10.0</td>\n",
       "      <td>12.0</td>\n",
       "      <td>13.506898</td>\n",
       "    </tr>\n",
       "    <tr>\n",
       "      <th>5915</th>\n",
       "      <td>45</td>\n",
       "      <td>2012-10-19</td>\n",
       "      <td>718125.53</td>\n",
       "      <td>0</td>\n",
       "      <td>-0.215579</td>\n",
       "      <td>1.371695</td>\n",
       "      <td>0.443562</td>\n",
       "      <td>0.759870</td>\n",
       "      <td>2012</td>\n",
       "      <td>10.0</td>\n",
       "      <td>19.0</td>\n",
       "      <td>13.484401</td>\n",
       "    </tr>\n",
       "    <tr>\n",
       "      <th>5916</th>\n",
       "      <td>45</td>\n",
       "      <td>2012-10-26</td>\n",
       "      <td>760281.43</td>\n",
       "      <td>0</td>\n",
       "      <td>-0.086125</td>\n",
       "      <td>1.181806</td>\n",
       "      <td>0.442999</td>\n",
       "      <td>0.759870</td>\n",
       "      <td>2012</td>\n",
       "      <td>10.0</td>\n",
       "      <td>26.0</td>\n",
       "      <td>13.541445</td>\n",
       "    </tr>\n",
       "  </tbody>\n",
       "</table>\n",
       "<p>5917 rows × 12 columns</p>\n",
       "</div>"
      ],
      "text/plain": [
       "     Store       Date  Weekly_Sales Holiday_Flag  Temperature  Fuel_Price  \\\n",
       "0        1 2010-02-05    1643690.90            0    -0.985777   -1.677452   \n",
       "1        1 2010-02-12    1641957.44            1    -1.192468   -1.729835   \n",
       "2        1 2010-02-19    1611968.17            0    -1.115231   -1.804045   \n",
       "3        1 2010-02-26    1409727.59            0    -0.750801   -1.701461   \n",
       "4        1 2010-03-05    1554806.68            0    -0.757872   -1.561772   \n",
       "...    ...        ...           ...          ...          ...         ...   \n",
       "5912    45 2012-09-28     713173.95            0     0.241861    1.432809   \n",
       "5913    45 2012-10-05     733455.07            0     0.242405    1.406617   \n",
       "5914    45 2012-10-12     734464.36            0    -0.324364    1.439357   \n",
       "5915    45 2012-10-19     718125.53            0    -0.215579    1.371695   \n",
       "5916    45 2012-10-26     760281.43            0    -0.086125    1.181806   \n",
       "\n",
       "           CPI  Unemployment  year  month   day  Weekly_Sales_Log  \n",
       "0     0.924484      0.308627  2010    2.0   5.0         14.312455  \n",
       "1     0.928221      0.308627  2010    2.0  12.0         14.311400  \n",
       "2     0.929424      0.308627  2010    2.0  19.0         14.292967  \n",
       "3     0.930206      0.308627  2010    2.0  26.0         14.158908  \n",
       "4     0.930988      0.308627  2010    3.0   5.0         14.256862  \n",
       "...        ...           ...   ...    ...   ...               ...  \n",
       "5912  0.435430      0.773544  2012    9.0  28.0         13.477482  \n",
       "5913  0.439450      0.759870  2012   10.0   5.0         13.505523  \n",
       "5914  0.443470      0.759870  2012   10.0  12.0         13.506898  \n",
       "5915  0.443562      0.759870  2012   10.0  19.0         13.484401  \n",
       "5916  0.442999      0.759870  2012   10.0  26.0         13.541445  \n",
       "\n",
       "[5917 rows x 12 columns]"
      ]
     },
     "execution_count": 25,
     "metadata": {},
     "output_type": "execute_result"
    }
   ],
   "source": [
    "input_for_tree_models.reset_index(drop=True, inplace=True)\n",
    "input_for_tree_models"
   ]
  },
  {
   "cell_type": "markdown",
   "metadata": {},
   "source": [
    "### 3.2 Input for Linear and other models"
   ]
  },
  {
   "cell_type": "markdown",
   "metadata": {},
   "source": [
    "#### One hot encoding"
   ]
  },
  {
   "cell_type": "code",
   "execution_count": 26,
   "metadata": {},
   "outputs": [],
   "source": [
    "one_hot_features = ['Store', 'Holiday_Flag', 'year']\n",
    "input_for_linear_models = pd.get_dummies(input_for_tree_models, columns=one_hot_features, drop_first=True)"
   ]
  },
  {
   "cell_type": "code",
   "execution_count": 27,
   "metadata": {},
   "outputs": [
    {
     "data": {
      "text/html": [
       "<div>\n",
       "<style scoped>\n",
       "    .dataframe tbody tr th:only-of-type {\n",
       "        vertical-align: middle;\n",
       "    }\n",
       "\n",
       "    .dataframe tbody tr th {\n",
       "        vertical-align: top;\n",
       "    }\n",
       "\n",
       "    .dataframe thead th {\n",
       "        text-align: right;\n",
       "    }\n",
       "</style>\n",
       "<table border=\"1\" class=\"dataframe\">\n",
       "  <thead>\n",
       "    <tr style=\"text-align: right;\">\n",
       "      <th></th>\n",
       "      <th>Date</th>\n",
       "      <th>Weekly_Sales</th>\n",
       "      <th>Temperature</th>\n",
       "      <th>Fuel_Price</th>\n",
       "      <th>CPI</th>\n",
       "      <th>Unemployment</th>\n",
       "      <th>month</th>\n",
       "      <th>day</th>\n",
       "      <th>Weekly_Sales_Log</th>\n",
       "      <th>Store_2</th>\n",
       "      <th>...</th>\n",
       "      <th>Store_39</th>\n",
       "      <th>Store_40</th>\n",
       "      <th>Store_41</th>\n",
       "      <th>Store_42</th>\n",
       "      <th>Store_43</th>\n",
       "      <th>Store_44</th>\n",
       "      <th>Store_45</th>\n",
       "      <th>Holiday_Flag_1</th>\n",
       "      <th>year_2011</th>\n",
       "      <th>year_2012</th>\n",
       "    </tr>\n",
       "  </thead>\n",
       "  <tbody>\n",
       "    <tr>\n",
       "      <th>0</th>\n",
       "      <td>2010-02-05</td>\n",
       "      <td>1643690.90</td>\n",
       "      <td>-0.985777</td>\n",
       "      <td>-1.677452</td>\n",
       "      <td>0.924484</td>\n",
       "      <td>0.308627</td>\n",
       "      <td>2.0</td>\n",
       "      <td>5.0</td>\n",
       "      <td>14.312455</td>\n",
       "      <td>False</td>\n",
       "      <td>...</td>\n",
       "      <td>False</td>\n",
       "      <td>False</td>\n",
       "      <td>False</td>\n",
       "      <td>False</td>\n",
       "      <td>False</td>\n",
       "      <td>False</td>\n",
       "      <td>False</td>\n",
       "      <td>False</td>\n",
       "      <td>False</td>\n",
       "      <td>False</td>\n",
       "    </tr>\n",
       "    <tr>\n",
       "      <th>1</th>\n",
       "      <td>2010-02-12</td>\n",
       "      <td>1641957.44</td>\n",
       "      <td>-1.192468</td>\n",
       "      <td>-1.729835</td>\n",
       "      <td>0.928221</td>\n",
       "      <td>0.308627</td>\n",
       "      <td>2.0</td>\n",
       "      <td>12.0</td>\n",
       "      <td>14.311400</td>\n",
       "      <td>False</td>\n",
       "      <td>...</td>\n",
       "      <td>False</td>\n",
       "      <td>False</td>\n",
       "      <td>False</td>\n",
       "      <td>False</td>\n",
       "      <td>False</td>\n",
       "      <td>False</td>\n",
       "      <td>False</td>\n",
       "      <td>True</td>\n",
       "      <td>False</td>\n",
       "      <td>False</td>\n",
       "    </tr>\n",
       "    <tr>\n",
       "      <th>2</th>\n",
       "      <td>2010-02-19</td>\n",
       "      <td>1611968.17</td>\n",
       "      <td>-1.115231</td>\n",
       "      <td>-1.804045</td>\n",
       "      <td>0.929424</td>\n",
       "      <td>0.308627</td>\n",
       "      <td>2.0</td>\n",
       "      <td>19.0</td>\n",
       "      <td>14.292967</td>\n",
       "      <td>False</td>\n",
       "      <td>...</td>\n",
       "      <td>False</td>\n",
       "      <td>False</td>\n",
       "      <td>False</td>\n",
       "      <td>False</td>\n",
       "      <td>False</td>\n",
       "      <td>False</td>\n",
       "      <td>False</td>\n",
       "      <td>False</td>\n",
       "      <td>False</td>\n",
       "      <td>False</td>\n",
       "    </tr>\n",
       "    <tr>\n",
       "      <th>3</th>\n",
       "      <td>2010-02-26</td>\n",
       "      <td>1409727.59</td>\n",
       "      <td>-0.750801</td>\n",
       "      <td>-1.701461</td>\n",
       "      <td>0.930206</td>\n",
       "      <td>0.308627</td>\n",
       "      <td>2.0</td>\n",
       "      <td>26.0</td>\n",
       "      <td>14.158908</td>\n",
       "      <td>False</td>\n",
       "      <td>...</td>\n",
       "      <td>False</td>\n",
       "      <td>False</td>\n",
       "      <td>False</td>\n",
       "      <td>False</td>\n",
       "      <td>False</td>\n",
       "      <td>False</td>\n",
       "      <td>False</td>\n",
       "      <td>False</td>\n",
       "      <td>False</td>\n",
       "      <td>False</td>\n",
       "    </tr>\n",
       "    <tr>\n",
       "      <th>4</th>\n",
       "      <td>2010-03-05</td>\n",
       "      <td>1554806.68</td>\n",
       "      <td>-0.757872</td>\n",
       "      <td>-1.561772</td>\n",
       "      <td>0.930988</td>\n",
       "      <td>0.308627</td>\n",
       "      <td>3.0</td>\n",
       "      <td>5.0</td>\n",
       "      <td>14.256862</td>\n",
       "      <td>False</td>\n",
       "      <td>...</td>\n",
       "      <td>False</td>\n",
       "      <td>False</td>\n",
       "      <td>False</td>\n",
       "      <td>False</td>\n",
       "      <td>False</td>\n",
       "      <td>False</td>\n",
       "      <td>False</td>\n",
       "      <td>False</td>\n",
       "      <td>False</td>\n",
       "      <td>False</td>\n",
       "    </tr>\n",
       "    <tr>\n",
       "      <th>...</th>\n",
       "      <td>...</td>\n",
       "      <td>...</td>\n",
       "      <td>...</td>\n",
       "      <td>...</td>\n",
       "      <td>...</td>\n",
       "      <td>...</td>\n",
       "      <td>...</td>\n",
       "      <td>...</td>\n",
       "      <td>...</td>\n",
       "      <td>...</td>\n",
       "      <td>...</td>\n",
       "      <td>...</td>\n",
       "      <td>...</td>\n",
       "      <td>...</td>\n",
       "      <td>...</td>\n",
       "      <td>...</td>\n",
       "      <td>...</td>\n",
       "      <td>...</td>\n",
       "      <td>...</td>\n",
       "      <td>...</td>\n",
       "      <td>...</td>\n",
       "    </tr>\n",
       "    <tr>\n",
       "      <th>5912</th>\n",
       "      <td>2012-09-28</td>\n",
       "      <td>713173.95</td>\n",
       "      <td>0.241861</td>\n",
       "      <td>1.432809</td>\n",
       "      <td>0.435430</td>\n",
       "      <td>0.773544</td>\n",
       "      <td>9.0</td>\n",
       "      <td>28.0</td>\n",
       "      <td>13.477482</td>\n",
       "      <td>False</td>\n",
       "      <td>...</td>\n",
       "      <td>False</td>\n",
       "      <td>False</td>\n",
       "      <td>False</td>\n",
       "      <td>False</td>\n",
       "      <td>False</td>\n",
       "      <td>False</td>\n",
       "      <td>True</td>\n",
       "      <td>False</td>\n",
       "      <td>False</td>\n",
       "      <td>True</td>\n",
       "    </tr>\n",
       "    <tr>\n",
       "      <th>5913</th>\n",
       "      <td>2012-10-05</td>\n",
       "      <td>733455.07</td>\n",
       "      <td>0.242405</td>\n",
       "      <td>1.406617</td>\n",
       "      <td>0.439450</td>\n",
       "      <td>0.759870</td>\n",
       "      <td>10.0</td>\n",
       "      <td>5.0</td>\n",
       "      <td>13.505523</td>\n",
       "      <td>False</td>\n",
       "      <td>...</td>\n",
       "      <td>False</td>\n",
       "      <td>False</td>\n",
       "      <td>False</td>\n",
       "      <td>False</td>\n",
       "      <td>False</td>\n",
       "      <td>False</td>\n",
       "      <td>True</td>\n",
       "      <td>False</td>\n",
       "      <td>False</td>\n",
       "      <td>True</td>\n",
       "    </tr>\n",
       "    <tr>\n",
       "      <th>5914</th>\n",
       "      <td>2012-10-12</td>\n",
       "      <td>734464.36</td>\n",
       "      <td>-0.324364</td>\n",
       "      <td>1.439357</td>\n",
       "      <td>0.443470</td>\n",
       "      <td>0.759870</td>\n",
       "      <td>10.0</td>\n",
       "      <td>12.0</td>\n",
       "      <td>13.506898</td>\n",
       "      <td>False</td>\n",
       "      <td>...</td>\n",
       "      <td>False</td>\n",
       "      <td>False</td>\n",
       "      <td>False</td>\n",
       "      <td>False</td>\n",
       "      <td>False</td>\n",
       "      <td>False</td>\n",
       "      <td>True</td>\n",
       "      <td>False</td>\n",
       "      <td>False</td>\n",
       "      <td>True</td>\n",
       "    </tr>\n",
       "    <tr>\n",
       "      <th>5915</th>\n",
       "      <td>2012-10-19</td>\n",
       "      <td>718125.53</td>\n",
       "      <td>-0.215579</td>\n",
       "      <td>1.371695</td>\n",
       "      <td>0.443562</td>\n",
       "      <td>0.759870</td>\n",
       "      <td>10.0</td>\n",
       "      <td>19.0</td>\n",
       "      <td>13.484401</td>\n",
       "      <td>False</td>\n",
       "      <td>...</td>\n",
       "      <td>False</td>\n",
       "      <td>False</td>\n",
       "      <td>False</td>\n",
       "      <td>False</td>\n",
       "      <td>False</td>\n",
       "      <td>False</td>\n",
       "      <td>True</td>\n",
       "      <td>False</td>\n",
       "      <td>False</td>\n",
       "      <td>True</td>\n",
       "    </tr>\n",
       "    <tr>\n",
       "      <th>5916</th>\n",
       "      <td>2012-10-26</td>\n",
       "      <td>760281.43</td>\n",
       "      <td>-0.086125</td>\n",
       "      <td>1.181806</td>\n",
       "      <td>0.442999</td>\n",
       "      <td>0.759870</td>\n",
       "      <td>10.0</td>\n",
       "      <td>26.0</td>\n",
       "      <td>13.541445</td>\n",
       "      <td>False</td>\n",
       "      <td>...</td>\n",
       "      <td>False</td>\n",
       "      <td>False</td>\n",
       "      <td>False</td>\n",
       "      <td>False</td>\n",
       "      <td>False</td>\n",
       "      <td>False</td>\n",
       "      <td>True</td>\n",
       "      <td>False</td>\n",
       "      <td>False</td>\n",
       "      <td>True</td>\n",
       "    </tr>\n",
       "  </tbody>\n",
       "</table>\n",
       "<p>5917 rows × 56 columns</p>\n",
       "</div>"
      ],
      "text/plain": [
       "           Date  Weekly_Sales  Temperature  Fuel_Price       CPI  \\\n",
       "0    2010-02-05    1643690.90    -0.985777   -1.677452  0.924484   \n",
       "1    2010-02-12    1641957.44    -1.192468   -1.729835  0.928221   \n",
       "2    2010-02-19    1611968.17    -1.115231   -1.804045  0.929424   \n",
       "3    2010-02-26    1409727.59    -0.750801   -1.701461  0.930206   \n",
       "4    2010-03-05    1554806.68    -0.757872   -1.561772  0.930988   \n",
       "...         ...           ...          ...         ...       ...   \n",
       "5912 2012-09-28     713173.95     0.241861    1.432809  0.435430   \n",
       "5913 2012-10-05     733455.07     0.242405    1.406617  0.439450   \n",
       "5914 2012-10-12     734464.36    -0.324364    1.439357  0.443470   \n",
       "5915 2012-10-19     718125.53    -0.215579    1.371695  0.443562   \n",
       "5916 2012-10-26     760281.43    -0.086125    1.181806  0.442999   \n",
       "\n",
       "      Unemployment  month   day  Weekly_Sales_Log  Store_2  ...  Store_39  \\\n",
       "0         0.308627    2.0   5.0         14.312455    False  ...     False   \n",
       "1         0.308627    2.0  12.0         14.311400    False  ...     False   \n",
       "2         0.308627    2.0  19.0         14.292967    False  ...     False   \n",
       "3         0.308627    2.0  26.0         14.158908    False  ...     False   \n",
       "4         0.308627    3.0   5.0         14.256862    False  ...     False   \n",
       "...            ...    ...   ...               ...      ...  ...       ...   \n",
       "5912      0.773544    9.0  28.0         13.477482    False  ...     False   \n",
       "5913      0.759870   10.0   5.0         13.505523    False  ...     False   \n",
       "5914      0.759870   10.0  12.0         13.506898    False  ...     False   \n",
       "5915      0.759870   10.0  19.0         13.484401    False  ...     False   \n",
       "5916      0.759870   10.0  26.0         13.541445    False  ...     False   \n",
       "\n",
       "      Store_40  Store_41  Store_42  Store_43  Store_44  Store_45  \\\n",
       "0        False     False     False     False     False     False   \n",
       "1        False     False     False     False     False     False   \n",
       "2        False     False     False     False     False     False   \n",
       "3        False     False     False     False     False     False   \n",
       "4        False     False     False     False     False     False   \n",
       "...        ...       ...       ...       ...       ...       ...   \n",
       "5912     False     False     False     False     False      True   \n",
       "5913     False     False     False     False     False      True   \n",
       "5914     False     False     False     False     False      True   \n",
       "5915     False     False     False     False     False      True   \n",
       "5916     False     False     False     False     False      True   \n",
       "\n",
       "      Holiday_Flag_1  year_2011  year_2012  \n",
       "0              False      False      False  \n",
       "1               True      False      False  \n",
       "2              False      False      False  \n",
       "3              False      False      False  \n",
       "4              False      False      False  \n",
       "...              ...        ...        ...  \n",
       "5912           False      False       True  \n",
       "5913           False      False       True  \n",
       "5914           False      False       True  \n",
       "5915           False      False       True  \n",
       "5916           False      False       True  \n",
       "\n",
       "[5917 rows x 56 columns]"
      ]
     },
     "execution_count": 27,
     "metadata": {},
     "output_type": "execute_result"
    }
   ],
   "source": [
    "# one hot encoding categorical features\n",
    "input_for_linear_models.reset_index(drop=True, inplace=True)\n",
    "input_for_linear_models"
   ]
  },
  {
   "cell_type": "markdown",
   "metadata": {},
   "source": [
    "# 4. Feature Selection "
   ]
  },
  {
   "cell_type": "markdown",
   "metadata": {},
   "source": [
    "1. Using RFE"
   ]
  },
  {
   "cell_type": "code",
   "execution_count": 28,
   "metadata": {},
   "outputs": [],
   "source": [
    "from sklearn.model_selection import train_test_split\n",
    "\n",
    "# Splitting the data into training and testing sets\n",
    "X = input_for_linear_models.drop(columns=['Weekly_Sales', 'Weekly_Sales_Log', 'Date'])\n",
    "y = input_for_linear_models['Weekly_Sales_Log']"
   ]
  },
  {
   "cell_type": "code",
   "execution_count": 29,
   "metadata": {},
   "outputs": [
    {
     "data": {
      "text/plain": [
       "Index(['Temperature', 'CPI', 'Unemployment', 'Store_2', 'Store_3', 'Store_4',\n",
       "       'Store_5', 'Store_6', 'Store_7', 'Store_8', 'Store_9', 'Store_10',\n",
       "       'Store_11', 'Store_12', 'Store_13', 'Store_14', 'Store_15', 'Store_16',\n",
       "       'Store_17', 'Store_18', 'Store_19', 'Store_20', 'Store_21', 'Store_22',\n",
       "       'Store_23', 'Store_24', 'Store_25', 'Store_26', 'Store_27', 'Store_28',\n",
       "       'Store_29', 'Store_30', 'Store_31', 'Store_32', 'Store_33', 'Store_34',\n",
       "       'Store_35', 'Store_36', 'Store_37', 'Store_38', 'Store_39', 'Store_40',\n",
       "       'Store_41', 'Store_42', 'Store_43', 'Store_44', 'Store_45',\n",
       "       'Holiday_Flag_1', 'year_2011', 'year_2012'],\n",
       "      dtype='object')"
      ]
     },
     "execution_count": 29,
     "metadata": {},
     "output_type": "execute_result"
    }
   ],
   "source": [
    "from sklearn.feature_selection import RFE\n",
    "from sklearn.linear_model import LinearRegression\n",
    "\n",
    "model = LinearRegression()\n",
    "rfe = RFE(model, n_features_to_select=50)\n",
    "rfe.fit(X, y)\n",
    "\n",
    "# Get selected features\n",
    "selected_features = X.columns[rfe.support_]\n",
    "selected_features"
   ]
  },
  {
   "cell_type": "markdown",
   "metadata": {},
   "source": [
    "2. Using Tree based models"
   ]
  },
  {
   "cell_type": "code",
   "execution_count": 30,
   "metadata": {},
   "outputs": [],
   "source": [
    "X = input_for_tree_models.drop(columns=['Weekly_Sales', 'Weekly_Sales_Log', 'Date'])\n",
    "y = input_for_tree_models['Weekly_Sales_Log']"
   ]
  },
  {
   "cell_type": "code",
   "execution_count": 31,
   "metadata": {},
   "outputs": [
    {
     "data": {
      "text/plain": [
       "Store           0.677106\n",
       "CPI             0.199799\n",
       "Unemployment    0.080924\n",
       "month           0.011930\n",
       "Temperature     0.009994\n",
       "Fuel_Price      0.008974\n",
       "day             0.007497\n",
       "year            0.002635\n",
       "Holiday_Flag    0.001141\n",
       "dtype: float64"
      ]
     },
     "execution_count": 31,
     "metadata": {},
     "output_type": "execute_result"
    }
   ],
   "source": [
    "from sklearn.ensemble import RandomForestRegressor\n",
    "import pandas as pd\n",
    "\n",
    "model = RandomForestRegressor()\n",
    "model.fit(X, y)\n",
    "\n",
    "# Get feature importances\n",
    "feature_importance = pd.Series(model.feature_importances_, index=X.columns)\n",
    "feature_importance.sort_values(ascending=False)"
   ]
  },
  {
   "cell_type": "markdown",
   "metadata": {},
   "source": [
    "Both methods indicate that store is an important feature for sales which makes sense"
   ]
  },
  {
   "cell_type": "code",
   "execution_count": 32,
   "metadata": {},
   "outputs": [
    {
     "data": {
      "image/png": "[encoded data removed]",
      "text/plain": [
       "<Figure size 1200x800 with 1 Axes>"
      ]
     },
     "metadata": {},
     "output_type": "display_data"
    }
   ],
   "source": [
    "# plot feature importances\n",
    "import matplotlib.pyplot as plt\n",
    "import seaborn as sns\n",
    "plt.figure(figsize=(12, 8))\n",
    "sns.barplot(x=feature_importance.sort_values(ascending=False), y=feature_importance.sort_values(ascending=False).index)\n",
    "plt.title('Feature Importances')\n",
    "plt.xlabel('Importance Score')\n",
    "plt.ylabel('Features')\n",
    "plt.show()"
   ]
  },
  {
   "cell_type": "code",
   "execution_count": null,
   "metadata": {},
   "outputs": [],
   "source": []
  },
  {
   "cell_type": "code",
   "execution_count": null,
   "metadata": {},
   "outputs": [],
   "source": []
  },
  {
   "cell_type": "markdown",
   "metadata": {},
   "source": [
    "# 5. Modelling"
   ]
  },
  {
   "cell_type": "markdown",
   "metadata": {},
   "source": [
    "### 5.1 linear models"
   ]
  },
  {
   "cell_type": "code",
   "execution_count": 33,
   "metadata": {},
   "outputs": [],
   "source": [
    "from sklearn.model_selection import train_test_split, cross_val_score\n",
    "from sklearn.metrics import mean_absolute_error, mean_squared_error, r2_score\n",
    "# Regression models\n",
    "from sklearn.linear_model import LinearRegression, Ridge, Lasso, ElasticNet\n",
    "from sklearn.ensemble import RandomForestRegressor, GradientBoostingRegressor\n",
    "from sklearn.tree import DecisionTreeRegressor\n",
    "from sklearn.svm import SVR\n",
    "from xgboost import XGBRegressor\n",
    "from lightgbm import LGBMRegressor"
   ]
  },
  {
   "cell_type": "code",
   "execution_count": 34,
   "metadata": {},
   "outputs": [
    {
     "data": {
      "text/plain": [
       "Index(['Date', 'Weekly_Sales', 'Temperature', 'Fuel_Price', 'CPI',\n",
       "       'Unemployment', 'month', 'day', 'Weekly_Sales_Log', 'Store_2',\n",
       "       'Store_3', 'Store_4', 'Store_5', 'Store_6', 'Store_7', 'Store_8',\n",
       "       'Store_9', 'Store_10', 'Store_11', 'Store_12', 'Store_13', 'Store_14',\n",
       "       'Store_15', 'Store_16', 'Store_17', 'Store_18', 'Store_19', 'Store_20',\n",
       "       'Store_21', 'Store_22', 'Store_23', 'Store_24', 'Store_25', 'Store_26',\n",
       "       'Store_27', 'Store_28', 'Store_29', 'Store_30', 'Store_31', 'Store_32',\n",
       "       'Store_33', 'Store_34', 'Store_35', 'Store_36', 'Store_37', 'Store_38',\n",
       "       'Store_39', 'Store_40', 'Store_41', 'Store_42', 'Store_43', 'Store_44',\n",
       "       'Store_45', 'Holiday_Flag_1', 'year_2011', 'year_2012'],\n",
       "      dtype='object')"
      ]
     },
     "execution_count": 34,
     "metadata": {},
     "output_type": "execute_result"
    }
   ],
   "source": [
    "input_for_linear_models.columns"
   ]
  },
  {
   "cell_type": "code",
   "execution_count": 35,
   "metadata": {},
   "outputs": [],
   "source": [
    "X = input_for_linear_models.drop(columns=['Weekly_Sales', 'Weekly_Sales_Log', 'Date'])  # drop target columns\n",
    "y = input_for_linear_models['Weekly_Sales_Log']  # using log-transformed target"
   ]
  },
  {
   "cell_type": "code",
   "execution_count": 36,
   "metadata": {},
   "outputs": [],
   "source": [
    "# Train-test split\n",
    "X_train, X_test, y_train, y_test = train_test_split(X, y, test_size=0.2, random_state=42)"
   ]
  },
  {
   "cell_type": "code",
   "execution_count": 37,
   "metadata": {},
   "outputs": [
    {
     "data": {
      "text/plain": [
       "['LinearRegression',\n",
       " 'Ridge',\n",
       " 'Lasso',\n",
       " 'ElasticNet',\n",
       " 'DecisionTree',\n",
       " 'RandomForest',\n",
       " 'GradientBoosting',\n",
       " 'SVR',\n",
       " 'XGBoost',\n",
       " 'LightGBM']"
      ]
     },
     "execution_count": 37,
     "metadata": {},
     "output_type": "execute_result"
    }
   ],
   "source": [
    "models = {\n",
    "    \"LinearRegression\": LinearRegression(),\n",
    "    \"Ridge\": Ridge(alpha=1),\n",
    "    \"Lasso\": Lasso(alpha=0.001),\n",
    "    \"ElasticNet\": ElasticNet(alpha=0.001, l1_ratio=0.5),\n",
    "    \"DecisionTree\": DecisionTreeRegressor(max_depth=5),\n",
    "    \"RandomForest\": RandomForestRegressor(n_estimators=100),\n",
    "    \"GradientBoosting\": GradientBoostingRegressor(),\n",
    "    \"SVR\": SVR(),\n",
    "    \"XGBoost\": XGBRegressor(n_estimators=100, objective='reg:squarederror'),\n",
    "    \"LightGBM\": LGBMRegressor()\n",
    "}\n",
    "model_names = list(models.keys())\n",
    "model_names"
   ]
  },
  {
   "cell_type": "code",
   "execution_count": 38,
   "metadata": {},
   "outputs": [
    {
     "name": "stdout",
     "output_type": "stream",
     "text": [
      "Training LinearRegression...\n",
      "Training Ridge...\n",
      "Training Lasso...\n",
      "Training ElasticNet...\n",
      "Training DecisionTree...\n",
      "Training RandomForest...\n",
      "Training GradientBoosting...\n",
      "Training SVR...\n",
      "Training XGBoost...\n",
      "Training LightGBM...\n",
      "[LightGBM] [Info] Auto-choosing col-wise multi-threading, the overhead of testing was 0.000240 seconds.\n",
      "You can set `force_col_wise=true` to remove the overhead.\n",
      "[LightGBM] [Info] Total Bins 1146\n",
      "[LightGBM] [Info] Number of data points in the train set: 4733, number of used features: 50\n",
      "[LightGBM] [Info] Start training from score 13.694890\n"
     ]
    }
   ],
   "source": [
    "results = []\n",
    "# Train and evaluate each model\n",
    "for name, model in models.items():\n",
    "    print(f\"Training {name}...\")\n",
    "    # Fit the model\n",
    "    model.fit(X_train, y_train)\n",
    "    preds = model.predict(X_test)\n",
    "    preds_train = model.predict(X_train)\n",
    "    # Inverse transform predictions (back from log scale)\n",
    "    preds_actual = np.expm1(preds)\n",
    "    y_test_actual = np.expm1(y_test)\n",
    "\n",
    "    preds_train_actual = np.expm1(preds_train)\n",
    "    y_train_actual = np.expm1(y_train)\n",
    "    # Evaluation metrics\n",
    "    mae = mean_absolute_error(y_test_actual, preds_actual)\n",
    "    rmse = np.sqrt(mean_squared_error(y_test_actual, preds_actual))\n",
    "    r2 = r2_score(y_test_actual, preds_actual)\n",
    "\n",
    "    # Evaluation metrics for train set\n",
    "    mae_train = mean_absolute_error(y_train_actual, preds_train_actual)\n",
    "    rmse_train = np.sqrt(mean_squared_error(y_train_actual, preds_train_actual))\n",
    "    r2_train = r2_score(y_train_actual, preds_train_actual)\n",
    "    results.append({\n",
    "        'Model': name,\n",
    "        'MAE': round(mae, 2),\n",
    "        'RMSE': round(rmse, 2),\n",
    "        'MAE Train': round(mae_train, 2),\n",
    "        'RMSE Train': round(rmse_train, 2),\n",
    "        'R2 Score Train': round(r2_train, 4),\n",
    "        'R2 Score Test': round(r2, 4)\n",
    "    })"
   ]
  },
  {
   "cell_type": "code",
   "execution_count": 39,
   "metadata": {},
   "outputs": [
    {
     "name": "stdout",
     "output_type": "stream",
     "text": [
      "              Model        MAE       RMSE  MAE Train  RMSE Train  \\\n",
      "8           XGBoost   50755.60   83581.91   28059.20    47943.78   \n",
      "9          LightGBM   51728.59   88069.92   40195.35    66751.27   \n",
      "5      RandomForest   55171.10  103183.48   19567.02    37711.84   \n",
      "0  LinearRegression   81273.62  136754.98   78098.58   127375.76   \n",
      "1             Ridge   83050.17  138651.11   79350.14   129557.71   \n",
      "3        ElasticNet   95499.58  156265.32   89034.46   144217.54   \n",
      "2             Lasso   98929.25  159979.67   91928.61   146758.50   \n",
      "6  GradientBoosting  197889.37  266250.22  189071.56   247536.39   \n",
      "7               SVR  232628.63  326505.95  223064.81   309428.36   \n",
      "4      DecisionTree  391976.39  509727.17  384223.65   494964.88   \n",
      "\n",
      "   R2 Score Train  R2 Score Test  \n",
      "8          0.9924         0.9780  \n",
      "9          0.9852         0.9755  \n",
      "5          0.9953         0.9664  \n",
      "0          0.9462         0.9410  \n",
      "1          0.9443         0.9394  \n",
      "3          0.9310         0.9230  \n",
      "2          0.9286         0.9193  \n",
      "6          0.7968         0.7764  \n",
      "7          0.6824         0.6637  \n",
      "4          0.1874         0.1803  \n"
     ]
    }
   ],
   "source": [
    "# Convert to DataFrame\n",
    "results_df = pd.DataFrame(results).sort_values(by='R2 Score Test', ascending=False)\n",
    "print(results_df)"
   ]
  },
  {
   "cell_type": "markdown",
   "metadata": {},
   "source": [
    "## 5.2 Tree models without one-hot encoded features"
   ]
  },
  {
   "cell_type": "code",
   "execution_count": 40,
   "metadata": {},
   "outputs": [
    {
     "data": {
      "text/plain": [
       "Index(['Store', 'Date', 'Weekly_Sales', 'Holiday_Flag', 'Temperature',\n",
       "       'Fuel_Price', 'CPI', 'Unemployment', 'year', 'month', 'day',\n",
       "       'Weekly_Sales_Log'],\n",
       "      dtype='object')"
      ]
     },
     "execution_count": 40,
     "metadata": {},
     "output_type": "execute_result"
    }
   ],
   "source": [
    "input_for_tree_models.columns"
   ]
  },
  {
   "cell_type": "code",
   "execution_count": 41,
   "metadata": {},
   "outputs": [],
   "source": [
    "input_for_tree_models['Store'] = input_for_tree_models['Store'].astype('int')\n",
    "input_for_tree_models['year'] = input_for_tree_models['year'].astype('int')\n",
    "input_for_tree_models['Holiday_Flag'] = input_for_tree_models['Holiday_Flag'].astype('int')"
   ]
  },
  {
   "cell_type": "code",
   "execution_count": 42,
   "metadata": {},
   "outputs": [
    {
     "data": {
      "text/plain": [
       "Store                        int64\n",
       "Date                datetime64[ns]\n",
       "Weekly_Sales               float64\n",
       "Holiday_Flag                 int64\n",
       "Temperature                float64\n",
       "Fuel_Price                 float64\n",
       "CPI                        float64\n",
       "Unemployment               float64\n",
       "year                         int64\n",
       "month                      float64\n",
       "day                        float64\n",
       "Weekly_Sales_Log           float64\n",
       "dtype: object"
      ]
     },
     "execution_count": 42,
     "metadata": {},
     "output_type": "execute_result"
    }
   ],
   "source": [
    "input_for_tree_models.dtypes"
   ]
  },
  {
   "cell_type": "code",
   "execution_count": 43,
   "metadata": {},
   "outputs": [],
   "source": [
    "X = input_for_tree_models.drop(columns=['Weekly_Sales', 'Weekly_Sales_Log', 'Date'])  # drop target columns\n",
    "y = input_for_tree_models['Weekly_Sales_Log']  # using log-transformed target"
   ]
  },
  {
   "cell_type": "code",
   "execution_count": 44,
   "metadata": {},
   "outputs": [],
   "source": [
    "# Train-test split\n",
    "X_train, X_test, y_train, y_test = train_test_split(X, y, test_size=0.2, random_state=42)"
   ]
  },
  {
   "cell_type": "code",
   "execution_count": 45,
   "metadata": {},
   "outputs": [
    {
     "data": {
      "text/plain": [
       "['DecisionTree', 'RandomForest', 'GradientBoosting', 'XGBoost', 'LightGBM']"
      ]
     },
     "execution_count": 45,
     "metadata": {},
     "output_type": "execute_result"
    }
   ],
   "source": [
    "models_2 = {\n",
    "    \"DecisionTree\": DecisionTreeRegressor(max_depth=5),\n",
    "    \"RandomForest\": RandomForestRegressor(n_estimators=100),\n",
    "    \"GradientBoosting\": GradientBoostingRegressor(),\n",
    "    \"XGBoost\": XGBRegressor(n_estimators=100, objective='reg:squarederror'),\n",
    "    \"LightGBM\": LGBMRegressor()\n",
    "}\n",
    "model_names_2 = list(models_2.keys())\n",
    "model_names_2"
   ]
  },
  {
   "cell_type": "code",
   "execution_count": 46,
   "metadata": {},
   "outputs": [
    {
     "name": "stdout",
     "output_type": "stream",
     "text": [
      "Training DecisionTree...\n",
      "Training RandomForest...\n",
      "Training GradientBoosting...\n",
      "Training XGBoost...\n",
      "Training LightGBM...\n",
      "[LightGBM] [Info] Auto-choosing col-wise multi-threading, the overhead of testing was 0.000201 seconds.\n",
      "You can set `force_col_wise=true` to remove the overhead.\n",
      "[LightGBM] [Info] Total Bins 1110\n",
      "[LightGBM] [Info] Number of data points in the train set: 4733, number of used features: 9\n",
      "[LightGBM] [Info] Start training from score 13.694890\n"
     ]
    }
   ],
   "source": [
    "results_2 = []\n",
    "# Train and evaluate each model\n",
    "for name, model in models_2.items():\n",
    "    print(f\"Training {name}...\")\n",
    "    # Fit the model\n",
    "    model.fit(X_train, y_train)\n",
    "    preds = model.predict(X_test)\n",
    "    preds_train = model.predict(X_train)\n",
    "    # Inverse transform predictions (back from log scale)\n",
    "    preds_actual = np.expm1(preds)\n",
    "    y_test_actual = np.expm1(y_test)\n",
    "\n",
    "    preds_train_actual = np.expm1(preds_train)\n",
    "    y_train_actual = np.expm1(y_train)\n",
    "    # Evaluation metrics\n",
    "    mae = mean_absolute_error(y_test_actual, preds_actual)\n",
    "    rmse = np.sqrt(mean_squared_error(y_test_actual, preds_actual))\n",
    "    r2 = r2_score(y_test_actual, preds_actual)\n",
    "\n",
    "    # Evaluation metrics for train set\n",
    "    mae_train = mean_absolute_error(y_train_actual, preds_train_actual)\n",
    "    rmse_train = np.sqrt(mean_squared_error(y_train_actual, preds_train_actual))\n",
    "    r2_train = r2_score(y_train_actual, preds_train_actual)\n",
    "    results_2.append({\n",
    "        'Model': name,\n",
    "        'MAE': round(mae, 2),\n",
    "        'RMSE': round(rmse, 2),\n",
    "        'MAE Train': round(mae_train, 2),\n",
    "        'RMSE Train': round(rmse_train, 2),\n",
    "        'R2 Score Train': round(r2_train, 4),\n",
    "        'R2 Score Test': round(r2, 4)\n",
    "    })"
   ]
  },
  {
   "cell_type": "code",
   "execution_count": 47,
   "metadata": {},
   "outputs": [
    {
     "name": "stdout",
     "output_type": "stream",
     "text": [
      "              Model        MAE       RMSE  MAE Train  RMSE Train  \\\n",
      "3           XGBoost   39324.61   64452.15   17220.56    26546.82   \n",
      "4          LightGBM   46579.18   73714.08   38106.99    59369.13   \n",
      "1      RandomForest   55580.98  106634.05   20747.12    40445.06   \n",
      "2  GradientBoosting  127770.77  193803.06  127357.94   187752.21   \n",
      "0      DecisionTree  200154.78  307236.84  197828.33   306707.95   \n",
      "\n",
      "   R2 Score Train  R2 Score Test  \n",
      "3          0.9977         0.9869  \n",
      "4          0.9883         0.9829  \n",
      "1          0.9946         0.9641  \n",
      "2          0.8831         0.8815  \n",
      "0          0.6880         0.7022  \n"
     ]
    }
   ],
   "source": [
    "# Convert to DataFrame\n",
    "results_df_2 = pd.DataFrame(results_2).sort_values(by='R2 Score Test', ascending=False)\n",
    "print(results_df_2)"
   ]
  },
  {
   "cell_type": "markdown",
   "metadata": {},
   "source": [
    "1. It shows that for tree models providing the categorical variables in one column instead of one hot encoding provides slightly better accuracies\n",
    "2. Xgboost model has provided best R2 score and generalising well with LGBM next for our case.\n",
    "3. Random forest shows very slight overfitting."
   ]
  },
  {
   "cell_type": "markdown",
   "metadata": {},
   "source": [
    "## 5.3 Xgboost and LGBM model training with Hyper parameter tuning"
   ]
  },
  {
   "cell_type": "markdown",
   "metadata": {},
   "source": [
    "### 5.3.1 Hyper parameter tuning for xgboost"
   ]
  },
  {
   "cell_type": "code",
   "execution_count": 48,
   "metadata": {},
   "outputs": [
    {
     "data": {
      "text/plain": [
       "Store                        int64\n",
       "Date                datetime64[ns]\n",
       "Weekly_Sales               float64\n",
       "Holiday_Flag                 int64\n",
       "Temperature                float64\n",
       "Fuel_Price                 float64\n",
       "CPI                        float64\n",
       "Unemployment               float64\n",
       "year                         int64\n",
       "month                      float64\n",
       "day                        float64\n",
       "Weekly_Sales_Log           float64\n",
       "dtype: object"
      ]
     },
     "execution_count": 48,
     "metadata": {},
     "output_type": "execute_result"
    }
   ],
   "source": [
    "input_for_tree_models.dtypes"
   ]
  },
  {
   "cell_type": "code",
   "execution_count": 49,
   "metadata": {},
   "outputs": [],
   "source": [
    "input_for_tree_models.columns\n",
    "for i in ['Store', 'year', 'Holiday_Flag']:\n",
    "    input_for_tree_models[i] = input_for_tree_models[i].astype('category')"
   ]
  },
  {
   "cell_type": "code",
   "execution_count": 50,
   "metadata": {},
   "outputs": [],
   "source": [
    "X = input_for_tree_models.drop(columns=['Weekly_Sales', 'Weekly_Sales_Log', 'Date'])  # drop target columns\n",
    "y = input_for_tree_models['Weekly_Sales_Log']  # using log-transformed target\n",
    "\n",
    "X_train, X_test, y_train, y_test = train_test_split(X, y, test_size=0.2, random_state=42)"
   ]
  },
  {
   "cell_type": "code",
   "execution_count": 51,
   "metadata": {},
   "outputs": [
    {
     "name": "stdout",
     "output_type": "stream",
     "text": [
      "Fitting 3 folds for each of 48 candidates, totalling 144 fits\n",
      "Best XGBoost Params: {'colsample_bytree': 1.0, 'learning_rate': 0.1, 'max_depth': 6, 'n_estimators': 400, 'subsample': 1.0}\n",
      "Best XGBoost Score (RMSE): 0.054759825066543984\n"
     ]
    }
   ],
   "source": [
    "from xgboost import XGBRegressor\n",
    "from sklearn.model_selection import GridSearchCV\n",
    "\n",
    "# Ensure categorical columns are properly marked\n",
    "X_train_xgb = X_train.copy()\n",
    "X_test_xgb = X_test.copy()\n",
    "\n",
    "xgb_model = XGBRegressor(\n",
    "    objective='reg:squarederror',\n",
    "    enable_categorical=True,\n",
    "    n_jobs=-1,\n",
    "    random_state=42\n",
    ")\n",
    "\n",
    "xgb_params = {\n",
    "    'n_estimators': [300, 400], # Number of trees to fit\n",
    "    'max_depth': [6, 7, 8], # Maximum depth of a tree\n",
    "    'learning_rate': [0.1, 0.15], # Step size shrinkage\n",
    "    'subsample': [0.8, 1.0], # Fraction of samples to be used for each tree\n",
    "    'colsample_bytree': [0.8, 1.0] # Fraction of features to be used for each tree\n",
    "}\n",
    "\n",
    "grid_xgb = GridSearchCV(xgb_model, xgb_params, cv=3, scoring='neg_root_mean_squared_error', verbose=1)\n",
    "grid_xgb.fit(X_train_xgb, y_train)\n",
    "\n",
    "print(\"Best XGBoost Params:\", grid_xgb.best_params_)\n",
    "print(\"Best XGBoost Score (RMSE):\", -grid_xgb.best_score_)\n"
   ]
  },
  {
   "cell_type": "code",
   "execution_count": 52,
   "metadata": {},
   "outputs": [
    {
     "data": {
      "text/html": [
       "<style>#sk-container-id-1 {\n",
       "  /* Definition of color scheme common for light and dark mode */\n",
       "  --sklearn-color-text: #000;\n",
       "  --sklearn-color-text-muted: #666;\n",
       "  --sklearn-color-line: gray;\n",
       "  /* Definition of color scheme for unfitted estimators */\n",
       "  --sklearn-color-unfitted-level-0: #fff5e6;\n",
       "  --sklearn-color-unfitted-level-1: #f6e4d2;\n",
       "  --sklearn-color-unfitted-level-2: #ffe0b3;\n",
       "  --sklearn-color-unfitted-level-3: chocolate;\n",
       "  /* Definition of color scheme for fitted estimators */\n",
       "  --sklearn-color-fitted-level-0: #f0f8ff;\n",
       "  --sklearn-color-fitted-level-1: #d4ebff;\n",
       "  --sklearn-color-fitted-level-2: #b3dbfd;\n",
       "  --sklearn-color-fitted-level-3: cornflowerblue;\n",
       "\n",
       "  /* Specific color for light theme */\n",
       "  --sklearn-color-text-on-default-background: var(--sg-text-color, var(--theme-code-foreground, var(--jp-content-font-color1, black)));\n",
       "  --sklearn-color-background: var(--sg-background-color, var(--theme-background, var(--jp-layout-color0, white)));\n",
       "  --sklearn-color-border-box: var(--sg-text-color, var(--theme-code-foreground, var(--jp-content-font-color1, black)));\n",
       "  --sklearn-color-icon: #696969;\n",
       "\n",
       "  @media (prefers-color-scheme: dark) {\n",
       "    /* Redefinition of color scheme for dark theme */\n",
       "    --sklearn-color-text-on-default-background: var(--sg-text-color, var(--theme-code-foreground, var(--jp-content-font-color1, white)));\n",
       "    --sklearn-color-background: var(--sg-background-color, var(--theme-background, var(--jp-layout-color0, #111)));\n",
       "    --sklearn-color-border-box: var(--sg-text-color, var(--theme-code-foreground, var(--jp-content-font-color1, white)));\n",
       "    --sklearn-color-icon: #878787;\n",
       "  }\n",
       "}\n",
       "\n",
       "#sk-container-id-1 {\n",
       "  color: var(--sklearn-color-text);\n",
       "}\n",
       "\n",
       "#sk-container-id-1 pre {\n",
       "  padding: 0;\n",
       "}\n",
       "\n",
       "#sk-container-id-1 input.sk-hidden--visually {\n",
       "  border: 0;\n",
       "  clip: rect(1px 1px 1px 1px);\n",
       "  clip: rect(1px, 1px, 1px, 1px);\n",
       "  height: 1px;\n",
       "  margin: -1px;\n",
       "  overflow: hidden;\n",
       "  padding: 0;\n",
       "  position: absolute;\n",
       "  width: 1px;\n",
       "}\n",
       "\n",
       "#sk-container-id-1 div.sk-dashed-wrapped {\n",
       "  border: 1px dashed var(--sklearn-color-line);\n",
       "  margin: 0 0.4em 0.5em 0.4em;\n",
       "  box-sizing: border-box;\n",
       "  padding-bottom: 0.4em;\n",
       "  background-color: var(--sklearn-color-background);\n",
       "}\n",
       "\n",
       "#sk-container-id-1 div.sk-container {\n",
       "  /* jupyter's `normalize.less` sets `[hidden] { display: none; }`\n",
       "     but bootstrap.min.css set `[hidden] { display: none !important; }`\n",
       "     so we also need the `!important` here to be able to override the\n",
       "     default hidden behavior on the sphinx rendered scikit-learn.org.\n",
       "     See: https://github.com/scikit-learn/scikit-learn/issues/21755 */\n",
       "  display: inline-block !important;\n",
       "  position: relative;\n",
       "}\n",
       "\n",
       "#sk-container-id-1 div.sk-text-repr-fallback {\n",
       "  display: none;\n",
       "}\n",
       "\n",
       "div.sk-parallel-item,\n",
       "div.sk-serial,\n",
       "div.sk-item {\n",
       "  /* draw centered vertical line to link estimators */\n",
       "  background-image: linear-gradient(var(--sklearn-color-text-on-default-background), var(--sklearn-color-text-on-default-background));\n",
       "  background-size: 2px 100%;\n",
       "  background-repeat: no-repeat;\n",
       "  background-position: center center;\n",
       "}\n",
       "\n",
       "/* Parallel-specific style estimator block */\n",
       "\n",
       "#sk-container-id-1 div.sk-parallel-item::after {\n",
       "  content: \"\";\n",
       "  width: 100%;\n",
       "  border-bottom: 2px solid var(--sklearn-color-text-on-default-background);\n",
       "  flex-grow: 1;\n",
       "}\n",
       "\n",
       "#sk-container-id-1 div.sk-parallel {\n",
       "  display: flex;\n",
       "  align-items: stretch;\n",
       "  justify-content: center;\n",
       "  background-color: var(--sklearn-color-background);\n",
       "  position: relative;\n",
       "}\n",
       "\n",
       "#sk-container-id-1 div.sk-parallel-item {\n",
       "  display: flex;\n",
       "  flex-direction: column;\n",
       "}\n",
       "\n",
       "#sk-container-id-1 div.sk-parallel-item:first-child::after {\n",
       "  align-self: flex-end;\n",
       "  width: 50%;\n",
       "}\n",
       "\n",
       "#sk-container-id-1 div.sk-parallel-item:last-child::after {\n",
       "  align-self: flex-start;\n",
       "  width: 50%;\n",
       "}\n",
       "\n",
       "#sk-container-id-1 div.sk-parallel-item:only-child::after {\n",
       "  width: 0;\n",
       "}\n",
       "\n",
       "/* Serial-specific style estimator block */\n",
       "\n",
       "#sk-container-id-1 div.sk-serial {\n",
       "  display: flex;\n",
       "  flex-direction: column;\n",
       "  align-items: center;\n",
       "  background-color: var(--sklearn-color-background);\n",
       "  padding-right: 1em;\n",
       "  padding-left: 1em;\n",
       "}\n",
       "\n",
       "\n",
       "/* Toggleable style: style used for estimator/Pipeline/ColumnTransformer box that is\n",
       "clickable and can be expanded/collapsed.\n",
       "- Pipeline and ColumnTransformer use this feature and define the default style\n",
       "- Estimators will overwrite some part of the style using the `sk-estimator` class\n",
       "*/\n",
       "\n",
       "/* Pipeline and ColumnTransformer style (default) */\n",
       "\n",
       "#sk-container-id-1 div.sk-toggleable {\n",
       "  /* Default theme specific background. It is overwritten whether we have a\n",
       "  specific estimator or a Pipeline/ColumnTransformer */\n",
       "  background-color: var(--sklearn-color-background);\n",
       "}\n",
       "\n",
       "/* Toggleable label */\n",
       "#sk-container-id-1 label.sk-toggleable__label {\n",
       "  cursor: pointer;\n",
       "  display: flex;\n",
       "  width: 100%;\n",
       "  margin-bottom: 0;\n",
       "  padding: 0.5em;\n",
       "  box-sizing: border-box;\n",
       "  text-align: center;\n",
       "  align-items: start;\n",
       "  justify-content: space-between;\n",
       "  gap: 0.5em;\n",
       "}\n",
       "\n",
       "#sk-container-id-1 label.sk-toggleable__label .caption {\n",
       "  font-size: 0.6rem;\n",
       "  font-weight: lighter;\n",
       "  color: var(--sklearn-color-text-muted);\n",
       "}\n",
       "\n",
       "#sk-container-id-1 label.sk-toggleable__label-arrow:before {\n",
       "  /* Arrow on the left of the label */\n",
       "  content: \"▸\";\n",
       "  float: left;\n",
       "  margin-right: 0.25em;\n",
       "  color: var(--sklearn-color-icon);\n",
       "}\n",
       "\n",
       "#sk-container-id-1 label.sk-toggleable__label-arrow:hover:before {\n",
       "  color: var(--sklearn-color-text);\n",
       "}\n",
       "\n",
       "/* Toggleable content - dropdown */\n",
       "\n",
       "#sk-container-id-1 div.sk-toggleable__content {\n",
       "  max-height: 0;\n",
       "  max-width: 0;\n",
       "  overflow: hidden;\n",
       "  text-align: left;\n",
       "  /* unfitted */\n",
       "  background-color: var(--sklearn-color-unfitted-level-0);\n",
       "}\n",
       "\n",
       "#sk-container-id-1 div.sk-toggleable__content.fitted {\n",
       "  /* fitted */\n",
       "  background-color: var(--sklearn-color-fitted-level-0);\n",
       "}\n",
       "\n",
       "#sk-container-id-1 div.sk-toggleable__content pre {\n",
       "  margin: 0.2em;\n",
       "  border-radius: 0.25em;\n",
       "  color: var(--sklearn-color-text);\n",
       "  /* unfitted */\n",
       "  background-color: var(--sklearn-color-unfitted-level-0);\n",
       "}\n",
       "\n",
       "#sk-container-id-1 div.sk-toggleable__content.fitted pre {\n",
       "  /* unfitted */\n",
       "  background-color: var(--sklearn-color-fitted-level-0);\n",
       "}\n",
       "\n",
       "#sk-container-id-1 input.sk-toggleable__control:checked~div.sk-toggleable__content {\n",
       "  /* Expand drop-down */\n",
       "  max-height: 200px;\n",
       "  max-width: 100%;\n",
       "  overflow: auto;\n",
       "}\n",
       "\n",
       "#sk-container-id-1 input.sk-toggleable__control:checked~label.sk-toggleable__label-arrow:before {\n",
       "  content: \"▾\";\n",
       "}\n",
       "\n",
       "/* Pipeline/ColumnTransformer-specific style */\n",
       "\n",
       "#sk-container-id-1 div.sk-label input.sk-toggleable__control:checked~label.sk-toggleable__label {\n",
       "  color: var(--sklearn-color-text);\n",
       "  background-color: var(--sklearn-color-unfitted-level-2);\n",
       "}\n",
       "\n",
       "#sk-container-id-1 div.sk-label.fitted input.sk-toggleable__control:checked~label.sk-toggleable__label {\n",
       "  background-color: var(--sklearn-color-fitted-level-2);\n",
       "}\n",
       "\n",
       "/* Estimator-specific style */\n",
       "\n",
       "/* Colorize estimator box */\n",
       "#sk-container-id-1 div.sk-estimator input.sk-toggleable__control:checked~label.sk-toggleable__label {\n",
       "  /* unfitted */\n",
       "  background-color: var(--sklearn-color-unfitted-level-2);\n",
       "}\n",
       "\n",
       "#sk-container-id-1 div.sk-estimator.fitted input.sk-toggleable__control:checked~label.sk-toggleable__label {\n",
       "  /* fitted */\n",
       "  background-color: var(--sklearn-color-fitted-level-2);\n",
       "}\n",
       "\n",
       "#sk-container-id-1 div.sk-label label.sk-toggleable__label,\n",
       "#sk-container-id-1 div.sk-label label {\n",
       "  /* The background is the default theme color */\n",
       "  color: var(--sklearn-color-text-on-default-background);\n",
       "}\n",
       "\n",
       "/* On hover, darken the color of the background */\n",
       "#sk-container-id-1 div.sk-label:hover label.sk-toggleable__label {\n",
       "  color: var(--sklearn-color-text);\n",
       "  background-color: var(--sklearn-color-unfitted-level-2);\n",
       "}\n",
       "\n",
       "/* Label box, darken color on hover, fitted */\n",
       "#sk-container-id-1 div.sk-label.fitted:hover label.sk-toggleable__label.fitted {\n",
       "  color: var(--sklearn-color-text);\n",
       "  background-color: var(--sklearn-color-fitted-level-2);\n",
       "}\n",
       "\n",
       "/* Estimator label */\n",
       "\n",
       "#sk-container-id-1 div.sk-label label {\n",
       "  font-family: monospace;\n",
       "  font-weight: bold;\n",
       "  display: inline-block;\n",
       "  line-height: 1.2em;\n",
       "}\n",
       "\n",
       "#sk-container-id-1 div.sk-label-container {\n",
       "  text-align: center;\n",
       "}\n",
       "\n",
       "/* Estimator-specific */\n",
       "#sk-container-id-1 div.sk-estimator {\n",
       "  font-family: monospace;\n",
       "  border: 1px dotted var(--sklearn-color-border-box);\n",
       "  border-radius: 0.25em;\n",
       "  box-sizing: border-box;\n",
       "  margin-bottom: 0.5em;\n",
       "  /* unfitted */\n",
       "  background-color: var(--sklearn-color-unfitted-level-0);\n",
       "}\n",
       "\n",
       "#sk-container-id-1 div.sk-estimator.fitted {\n",
       "  /* fitted */\n",
       "  background-color: var(--sklearn-color-fitted-level-0);\n",
       "}\n",
       "\n",
       "/* on hover */\n",
       "#sk-container-id-1 div.sk-estimator:hover {\n",
       "  /* unfitted */\n",
       "  background-color: var(--sklearn-color-unfitted-level-2);\n",
       "}\n",
       "\n",
       "#sk-container-id-1 div.sk-estimator.fitted:hover {\n",
       "  /* fitted */\n",
       "  background-color: var(--sklearn-color-fitted-level-2);\n",
       "}\n",
       "\n",
       "/* Specification for estimator info (e.g. \"i\" and \"?\") */\n",
       "\n",
       "/* Common style for \"i\" and \"?\" */\n",
       "\n",
       ".sk-estimator-doc-link,\n",
       "a:link.sk-estimator-doc-link,\n",
       "a:visited.sk-estimator-doc-link {\n",
       "  float: right;\n",
       "  font-size: smaller;\n",
       "  line-height: 1em;\n",
       "  font-family: monospace;\n",
       "  background-color: var(--sklearn-color-background);\n",
       "  border-radius: 1em;\n",
       "  height: 1em;\n",
       "  width: 1em;\n",
       "  text-decoration: none !important;\n",
       "  margin-left: 0.5em;\n",
       "  text-align: center;\n",
       "  /* unfitted */\n",
       "  border: var(--sklearn-color-unfitted-level-1) 1pt solid;\n",
       "  color: var(--sklearn-color-unfitted-level-1);\n",
       "}\n",
       "\n",
       ".sk-estimator-doc-link.fitted,\n",
       "a:link.sk-estimator-doc-link.fitted,\n",
       "a:visited.sk-estimator-doc-link.fitted {\n",
       "  /* fitted */\n",
       "  border: var(--sklearn-color-fitted-level-1) 1pt solid;\n",
       "  color: var(--sklearn-color-fitted-level-1);\n",
       "}\n",
       "\n",
       "/* On hover */\n",
       "div.sk-estimator:hover .sk-estimator-doc-link:hover,\n",
       ".sk-estimator-doc-link:hover,\n",
       "div.sk-label-container:hover .sk-estimator-doc-link:hover,\n",
       ".sk-estimator-doc-link:hover {\n",
       "  /* unfitted */\n",
       "  background-color: var(--sklearn-color-unfitted-level-3);\n",
       "  color: var(--sklearn-color-background);\n",
       "  text-decoration: none;\n",
       "}\n",
       "\n",
       "div.sk-estimator.fitted:hover .sk-estimator-doc-link.fitted:hover,\n",
       ".sk-estimator-doc-link.fitted:hover,\n",
       "div.sk-label-container:hover .sk-estimator-doc-link.fitted:hover,\n",
       ".sk-estimator-doc-link.fitted:hover {\n",
       "  /* fitted */\n",
       "  background-color: var(--sklearn-color-fitted-level-3);\n",
       "  color: var(--sklearn-color-background);\n",
       "  text-decoration: none;\n",
       "}\n",
       "\n",
       "/* Span, style for the box shown on hovering the info icon */\n",
       ".sk-estimator-doc-link span {\n",
       "  display: none;\n",
       "  z-index: 9999;\n",
       "  position: relative;\n",
       "  font-weight: normal;\n",
       "  right: .2ex;\n",
       "  padding: .5ex;\n",
       "  margin: .5ex;\n",
       "  width: min-content;\n",
       "  min-width: 20ex;\n",
       "  max-width: 50ex;\n",
       "  color: var(--sklearn-color-text);\n",
       "  box-shadow: 2pt 2pt 4pt #999;\n",
       "  /* unfitted */\n",
       "  background: var(--sklearn-color-unfitted-level-0);\n",
       "  border: .5pt solid var(--sklearn-color-unfitted-level-3);\n",
       "}\n",
       "\n",
       ".sk-estimator-doc-link.fitted span {\n",
       "  /* fitted */\n",
       "  background: var(--sklearn-color-fitted-level-0);\n",
       "  border: var(--sklearn-color-fitted-level-3);\n",
       "}\n",
       "\n",
       ".sk-estimator-doc-link:hover span {\n",
       "  display: block;\n",
       "}\n",
       "\n",
       "/* \"?\"-specific style due to the `<a>` HTML tag */\n",
       "\n",
       "#sk-container-id-1 a.estimator_doc_link {\n",
       "  float: right;\n",
       "  font-size: 1rem;\n",
       "  line-height: 1em;\n",
       "  font-family: monospace;\n",
       "  background-color: var(--sklearn-color-background);\n",
       "  border-radius: 1rem;\n",
       "  height: 1rem;\n",
       "  width: 1rem;\n",
       "  text-decoration: none;\n",
       "  /* unfitted */\n",
       "  color: var(--sklearn-color-unfitted-level-1);\n",
       "  border: var(--sklearn-color-unfitted-level-1) 1pt solid;\n",
       "}\n",
       "\n",
       "#sk-container-id-1 a.estimator_doc_link.fitted {\n",
       "  /* fitted */\n",
       "  border: var(--sklearn-color-fitted-level-1) 1pt solid;\n",
       "  color: var(--sklearn-color-fitted-level-1);\n",
       "}\n",
       "\n",
       "/* On hover */\n",
       "#sk-container-id-1 a.estimator_doc_link:hover {\n",
       "  /* unfitted */\n",
       "  background-color: var(--sklearn-color-unfitted-level-3);\n",
       "  color: var(--sklearn-color-background);\n",
       "  text-decoration: none;\n",
       "}\n",
       "\n",
       "#sk-container-id-1 a.estimator_doc_link.fitted:hover {\n",
       "  /* fitted */\n",
       "  background-color: var(--sklearn-color-fitted-level-3);\n",
       "}\n",
       "</style><div id=\"sk-container-id-1\" class=\"sk-top-container\"><div class=\"sk-text-repr-fallback\"><pre>GridSearchCV(cv=3,\n",
       "             estimator=XGBRegressor(base_score=None, booster=None,\n",
       "                                    callbacks=None, colsample_bylevel=None,\n",
       "                                    colsample_bynode=None,\n",
       "                                    colsample_bytree=None, device=None,\n",
       "                                    early_stopping_rounds=None,\n",
       "                                    enable_categorical=True, eval_metric=None,\n",
       "                                    feature_types=None, feature_weights=None,\n",
       "                                    gamma=None, grow_policy=None,\n",
       "                                    importance_type=None,\n",
       "                                    interaction_constraints=None,...\n",
       "                                    max_depth=None, max_leaves=None,\n",
       "                                    min_child_weight=None, missing=nan,\n",
       "                                    monotone_constraints=None,\n",
       "                                    multi_strategy=None, n_estimators=None,\n",
       "                                    n_jobs=-1, num_parallel_tree=None, ...),\n",
       "             param_grid={&#x27;colsample_bytree&#x27;: [0.8, 1.0],\n",
       "                         &#x27;learning_rate&#x27;: [0.1, 0.15], &#x27;max_depth&#x27;: [6, 7, 8],\n",
       "                         &#x27;n_estimators&#x27;: [300, 400], &#x27;subsample&#x27;: [0.8, 1.0]},\n",
       "             scoring=&#x27;neg_root_mean_squared_error&#x27;, verbose=1)</pre><b>In a Jupyter environment, please rerun this cell to show the HTML representation or trust the notebook. <br />On GitHub, the HTML representation is unable to render, please try loading this page with nbviewer.org.</b></div><div class=\"sk-container\" hidden><div class=\"sk-item sk-dashed-wrapped\"><div class=\"sk-label-container\"><div class=\"sk-label fitted sk-toggleable\"><input class=\"sk-toggleable__control sk-hidden--visually\" id=\"sk-estimator-id-1\" type=\"checkbox\" ><label for=\"sk-estimator-id-1\" class=\"sk-toggleable__label fitted sk-toggleable__label-arrow\"><div><div>GridSearchCV</div></div><div><a class=\"sk-estimator-doc-link fitted\" rel=\"noreferrer\" target=\"_blank\" href=\"https://scikit-learn.org/1.6/modules/generated/sklearn.model_selection.GridSearchCV.html\">?<span>Documentation for GridSearchCV</span></a><span class=\"sk-estimator-doc-link fitted\">i<span>Fitted</span></span></div></label><div class=\"sk-toggleable__content fitted\"><pre>GridSearchCV(cv=3,\n",
       "             estimator=XGBRegressor(base_score=None, booster=None,\n",
       "                                    callbacks=None, colsample_bylevel=None,\n",
       "                                    colsample_bynode=None,\n",
       "                                    colsample_bytree=None, device=None,\n",
       "                                    early_stopping_rounds=None,\n",
       "                                    enable_categorical=True, eval_metric=None,\n",
       "                                    feature_types=None, feature_weights=None,\n",
       "                                    gamma=None, grow_policy=None,\n",
       "                                    importance_type=None,\n",
       "                                    interaction_constraints=None,...\n",
       "                                    max_depth=None, max_leaves=None,\n",
       "                                    min_child_weight=None, missing=nan,\n",
       "                                    monotone_constraints=None,\n",
       "                                    multi_strategy=None, n_estimators=None,\n",
       "                                    n_jobs=-1, num_parallel_tree=None, ...),\n",
       "             param_grid={&#x27;colsample_bytree&#x27;: [0.8, 1.0],\n",
       "                         &#x27;learning_rate&#x27;: [0.1, 0.15], &#x27;max_depth&#x27;: [6, 7, 8],\n",
       "                         &#x27;n_estimators&#x27;: [300, 400], &#x27;subsample&#x27;: [0.8, 1.0]},\n",
       "             scoring=&#x27;neg_root_mean_squared_error&#x27;, verbose=1)</pre></div> </div></div><div class=\"sk-parallel\"><div class=\"sk-parallel-item\"><div class=\"sk-item\"><div class=\"sk-label-container\"><div class=\"sk-label fitted sk-toggleable\"><input class=\"sk-toggleable__control sk-hidden--visually\" id=\"sk-estimator-id-2\" type=\"checkbox\" ><label for=\"sk-estimator-id-2\" class=\"sk-toggleable__label fitted sk-toggleable__label-arrow\"><div><div>best_estimator_: XGBRegressor</div></div></label><div class=\"sk-toggleable__content fitted\"><pre>XGBRegressor(base_score=None, booster=None, callbacks=None,\n",
       "             colsample_bylevel=None, colsample_bynode=None,\n",
       "             colsample_bytree=1.0, device=None, early_stopping_rounds=None,\n",
       "             enable_categorical=True, eval_metric=None, feature_types=None,\n",
       "             feature_weights=None, gamma=None, grow_policy=None,\n",
       "             importance_type=None, interaction_constraints=None,\n",
       "             learning_rate=0.1, max_bin=None, max_cat_threshold=None,\n",
       "             max_cat_to_onehot=None, max_delta_step=None, max_depth=6,\n",
       "             max_leaves=None, min_child_weight=None, missing=nan,\n",
       "             monotone_constraints=None, multi_strategy=None, n_estimators=400,\n",
       "             n_jobs=-1, num_parallel_tree=None, ...)</pre></div> </div></div><div class=\"sk-serial\"><div class=\"sk-item\"><div class=\"sk-estimator fitted sk-toggleable\"><input class=\"sk-toggleable__control sk-hidden--visually\" id=\"sk-estimator-id-3\" type=\"checkbox\" ><label for=\"sk-estimator-id-3\" class=\"sk-toggleable__label fitted sk-toggleable__label-arrow\"><div><div>XGBRegressor</div></div><div><a class=\"sk-estimator-doc-link fitted\" rel=\"noreferrer\" target=\"_blank\" href=\"https://xgboost.readthedocs.io/en/release_3.0.0/python/python_api.html#xgboost.XGBRegressor\">?<span>Documentation for XGBRegressor</span></a></div></label><div class=\"sk-toggleable__content fitted\"><pre>XGBRegressor(base_score=None, booster=None, callbacks=None,\n",
       "             colsample_bylevel=None, colsample_bynode=None,\n",
       "             colsample_bytree=1.0, device=None, early_stopping_rounds=None,\n",
       "             enable_categorical=True, eval_metric=None, feature_types=None,\n",
       "             feature_weights=None, gamma=None, grow_policy=None,\n",
       "             importance_type=None, interaction_constraints=None,\n",
       "             learning_rate=0.1, max_bin=None, max_cat_threshold=None,\n",
       "             max_cat_to_onehot=None, max_delta_step=None, max_depth=6,\n",
       "             max_leaves=None, min_child_weight=None, missing=nan,\n",
       "             monotone_constraints=None, multi_strategy=None, n_estimators=400,\n",
       "             n_jobs=-1, num_parallel_tree=None, ...)</pre></div> </div></div></div></div></div></div></div></div></div>"
      ],
      "text/plain": [
       "GridSearchCV(cv=3,\n",
       "             estimator=XGBRegressor(base_score=None, booster=None,\n",
       "                                    callbacks=None, colsample_bylevel=None,\n",
       "                                    colsample_bynode=None,\n",
       "                                    colsample_bytree=None, device=None,\n",
       "                                    early_stopping_rounds=None,\n",
       "                                    enable_categorical=True, eval_metric=None,\n",
       "                                    feature_types=None, feature_weights=None,\n",
       "                                    gamma=None, grow_policy=None,\n",
       "                                    importance_type=None,\n",
       "                                    interaction_constraints=None,...\n",
       "                                    max_depth=None, max_leaves=None,\n",
       "                                    min_child_weight=None, missing=nan,\n",
       "                                    monotone_constraints=None,\n",
       "                                    multi_strategy=None, n_estimators=None,\n",
       "                                    n_jobs=-1, num_parallel_tree=None, ...),\n",
       "             param_grid={'colsample_bytree': [0.8, 1.0],\n",
       "                         'learning_rate': [0.1, 0.15], 'max_depth': [6, 7, 8],\n",
       "                         'n_estimators': [300, 400], 'subsample': [0.8, 1.0]},\n",
       "             scoring='neg_root_mean_squared_error', verbose=1)"
      ]
     },
     "execution_count": 52,
     "metadata": {},
     "output_type": "execute_result"
    }
   ],
   "source": [
    "grid_xgb"
   ]
  },
  {
   "cell_type": "code",
   "execution_count": 53,
   "metadata": {},
   "outputs": [],
   "source": [
    "# Convert results to DataFrame\n",
    "results_df_grid_search = pd.DataFrame(grid_xgb.cv_results_)\n",
    "\n",
    "# Optionally, sort by best score (mean test score)\n",
    "results_df_grid_search = results_df_grid_search.sort_values(by='mean_test_score', ascending=False)\n",
    "results_df_grid_search.to_csv('grid_search_results_v2.0.csv', index=False)"
   ]
  },
  {
   "cell_type": "markdown",
   "metadata": {},
   "source": [
    "Final Tuned XgBoost Model"
   ]
  },
  {
   "cell_type": "code",
   "execution_count": 54,
   "metadata": {},
   "outputs": [],
   "source": [
    "# Define your custom hyperparameters\n",
    "xgb_model_final = XGBRegressor(\n",
    "    n_estimators=400,\n",
    "    max_depth=6,\n",
    "    learning_rate=0.1,\n",
    "    subsample=1.0,\n",
    "    colsample_bytree=1.0,\n",
    "    objective='reg:squarederror',\n",
    "    enable_categorical=True,  # Set to True if you are passing categorical columns directly\n",
    "    n_jobs=-1,\n",
    "    random_state=42\n",
    ")"
   ]
  },
  {
   "cell_type": "code",
   "execution_count": 55,
   "metadata": {},
   "outputs": [
    {
     "name": "stdout",
     "output_type": "stream",
     "text": [
      "           Model      MAE      RMSE  MAE Train  RMSE Train  R2 Score Train  \\\n",
      "0  XGBoost Final  33255.1  53671.65    8193.18    12493.42          0.9995   \n",
      "\n",
      "   R2 Score Test  \n",
      "0         0.9909  \n"
     ]
    }
   ],
   "source": [
    "xgb_model_final.fit(X_train, y_train)\n",
    "preds_final = xgb_model_final.predict(X_test)\n",
    "\n",
    "preds_train_final = xgb_model_final.predict(X_train)\n",
    "# Inverse transform predictions (back from log scale)\n",
    "\n",
    "preds_actual_final = np.expm1(preds_final)\n",
    "y_test_actual_final = np.expm1(y_test)\n",
    "\n",
    "preds_train_actual_final = np.expm1(preds_train_final)\n",
    "y_train_actual_final = np.expm1(y_train)\n",
    "# Evaluation metrics\n",
    "\n",
    "mae_final = mean_absolute_error(y_test_actual_final, preds_actual_final)\n",
    "rmse_final = np.sqrt(mean_squared_error(y_test_actual_final, preds_actual_final))\n",
    "r2_final = r2_score(y_test_actual_final, preds_actual_final)\n",
    "# Evaluation metrics for train set\n",
    "mae_train_final = mean_absolute_error(y_train_actual_final, preds_train_actual_final)\n",
    "rmse_train_final = np.sqrt(mean_squared_error(y_train_actual_final, preds_train_actual_final))\n",
    "r2_train_final = r2_score(y_train_actual_final, preds_train_actual_final)\n",
    "\n",
    "results_final = {\n",
    "    'Model': 'XGBoost Final',\n",
    "    'MAE': round(mae_final, 2),\n",
    "    'RMSE': round(rmse_final, 2),\n",
    "    'MAE Train': round(mae_train_final, 2),\n",
    "    'RMSE Train': round(rmse_train_final, 2),\n",
    "    'R2 Score Train': round(r2_train_final, 4),\n",
    "    'R2 Score Test': round(r2_final, 4)\n",
    "}\n",
    "\n",
    "# Convert to DataFrame\n",
    "results_df_final = pd.DataFrame([results_final])\n",
    "print(results_df_final)"
   ]
  },
  {
   "cell_type": "markdown",
   "metadata": {},
   "source": [
    "### 5.3.2 Hyper parameter tuning for LGBM "
   ]
  },
  {
   "cell_type": "code",
   "execution_count": 56,
   "metadata": {},
   "outputs": [],
   "source": [
    "import lightgbm as lgb"
   ]
  },
  {
   "cell_type": "code",
   "execution_count": 57,
   "metadata": {},
   "outputs": [
    {
     "name": "stdout",
     "output_type": "stream",
     "text": [
      "Fitting 5 folds for each of 72 candidates, totalling 360 fits\n",
      "[LightGBM] [Info] Auto-choosing col-wise multi-threading, the overhead of testing was 0.000816 seconds.\n",
      "You can set `force_col_wise=true` to remove the overhead.\n",
      "[LightGBM] [Info] Total Bins 1110\n",
      "[LightGBM] [Info] Number of data points in the train set: 4733, number of used features: 9\n",
      "[LightGBM] [Info] Start training from score 13.694890\n",
      "Best Parameters: {'colsample_bytree': 1.0, 'learning_rate': 0.1, 'max_depth': -1, 'n_estimators': 400, 'subsample': 0.8}\n",
      "Best Score (RMSE): 0.056754163859739436\n"
     ]
    }
   ],
   "source": [
    "import lightgbm as lgb\n",
    "\n",
    "# Base model\n",
    "lgb_model_tuning = lgb.LGBMRegressor(\n",
    "    objective='regression',\n",
    "    n_jobs=-1,\n",
    "    random_state=42\n",
    ")\n",
    "\n",
    "# Hyperparameter grid\n",
    "param_grid = {\n",
    "    'n_estimators': [200, 300, 400],\n",
    "    'max_depth': [ 6, -1],  # -1 means no limit\n",
    "    'learning_rate': [0.05, 0.1, 0.15],\n",
    "    'subsample': [0.8, 1.0],\n",
    "    'colsample_bytree': [0.8, 1.0]\n",
    "}\n",
    "\n",
    "# GridSearchCV setup\n",
    "grid_search_lgbm = GridSearchCV(\n",
    "    estimator=lgb_model_tuning,\n",
    "    param_grid=param_grid,\n",
    "    scoring='neg_root_mean_squared_error',  # You can change this to 'r2', 'neg_root_mean_squared_error', etc.\n",
    "    cv=5,\n",
    "    verbose=2,\n",
    "    n_jobs=-1\n",
    ")\n",
    "\n",
    "# Fit the grid search\n",
    "grid_search_lgbm.fit(X_train, y_train)\n",
    "\n",
    "# Best model and params\n",
    "print(\"Best Parameters:\", grid_search_lgbm.best_params_)\n",
    "print(\"Best Score (RMSE):\", -grid_search_lgbm.best_score_)"
   ]
  },
  {
   "cell_type": "code",
   "execution_count": 58,
   "metadata": {},
   "outputs": [],
   "source": [
    "# Convert results to DataFrame\n",
    "results_df_grid_search_lgbm = pd.DataFrame(grid_search_lgbm.cv_results_)\n",
    "\n",
    "# Optionally, sort by best score (mean test score)\n",
    "results_df_grid_search_lgbm = results_df_grid_search_lgbm.sort_values(by='mean_test_score', ascending=False)\n",
    "results_df_grid_search_lgbm.to_csv('results_df_grid_search_lgbm_v1.0.csv', index=False)"
   ]
  },
  {
   "cell_type": "code",
   "execution_count": 59,
   "metadata": {},
   "outputs": [
    {
     "name": "stdout",
     "output_type": "stream",
     "text": [
      "[LightGBM] [Info] Auto-choosing col-wise multi-threading, the overhead of testing was 0.000739 seconds.\n",
      "You can set `force_col_wise=true` to remove the overhead.\n",
      "[LightGBM] [Info] Total Bins 1110\n",
      "[LightGBM] [Info] Number of data points in the train set: 4733, number of used features: 9\n",
      "[LightGBM] [Info] Start training from score 13.694890\n"
     ]
    }
   ],
   "source": [
    "\n",
    "# Define custom hyperparameters\n",
    "lgb_model = lgb.LGBMRegressor(\n",
    "    n_estimators=400, # Number of trees to fit\n",
    "    max_depth=-1,  # -1 means no limit\n",
    "    learning_rate=0.1, # Step size shrinkage\n",
    "    subsample=0.8, # Fraction of samples to be used for each tree\n",
    "    colsample_bytree=1.0, # Fraction of features to be used for each tree\n",
    "    objective='regression', # Objective function\n",
    "    n_jobs=-1, # Use all available cores\n",
    "    random_state=42 # For reproducibility\n",
    ")\n",
    "\n",
    "\n",
    "# Fit model\n",
    "lgb_model.fit(X_train, y_train)\n",
    "\n",
    "# Predict on train and test sets\n",
    "y_train_pred = lgb_model.predict(X_train)\n",
    "y_test_pred = lgb_model.predict(X_test)\n",
    "\n",
    "y_train_pred_final = np.expm1(y_train_pred)  # Inverse transform\n",
    "y_test_pred_final = np.expm1(y_test_pred)  # Inverse transform\n",
    "y_train_final = np.expm1(y_train)  # Inverse transform\n",
    "y_test_final = np.expm1(y_test)  # Inverse transform\n",
    "\n",
    "\n",
    "# Evaluate model\n",
    "mae_train = mean_absolute_error(y_train_final, y_train_pred_final)\n",
    "rmse_train = np.sqrt(mean_squared_error(y_train_final, y_train_pred_final))\n",
    "r2_train = r2_score(y_train_final, y_train_pred_final)\n",
    "\n",
    "mae_test = mean_absolute_error(y_test_final, y_test_pred_final)\n",
    "rmse_test = np.sqrt(mean_squared_error(y_test_final, y_test_pred_final))\n",
    "r2_test = r2_score(y_test_final, y_test_pred_final)"
   ]
  },
  {
   "cell_type": "code",
   "execution_count": 60,
   "metadata": {},
   "outputs": [
    {
     "name": "stdout",
     "output_type": "stream",
     "text": [
      "            Model       MAE      RMSE  MAE Train  RMSE Train  R2 Score Train  \\\n",
      "0  LightGBM Final  33249.03  53580.67   14328.32    21648.04          0.9984   \n",
      "\n",
      "   R2 Score Test  \n",
      "0         0.9909  \n"
     ]
    }
   ],
   "source": [
    "results_final_lgbm = {\n",
    "    'Model': 'LightGBM Final',\n",
    "    'MAE': round(mae_test, 2),\n",
    "    'RMSE': round(rmse_test, 2),\n",
    "    'MAE Train': round(mae_train, 2),\n",
    "    'RMSE Train': round(rmse_train, 2),\n",
    "    'R2 Score Train': round(r2_train, 4),\n",
    "    'R2 Score Test': round(r2_test, 4)\n",
    "}\n",
    "\n",
    "# Convert to DataFrame\n",
    "results_df_final_lgbm = pd.DataFrame([results_final_lgbm])\n",
    "print(results_df_final_lgbm)"
   ]
  },
  {
   "cell_type": "markdown",
   "metadata": {},
   "source": [
    "1. Both Xgboost and LightGBM models produced same R2 score for test dataset which is 0.9909.\n",
    "2. However we have slightly better performance on training dataset for Xgboost with 0.9995 where LightGBM has 0.9984. \n",
    "3. But if we check MAE and RMSE for both models LightGBM has lower error values for testing datasets indicating better generalisation.\n",
    "4. This could indicate that xgboost may be slightly overfitting the training data compared to LightGBM.\n",
    "5. Therefore, we are selecting LightGBM as our final model based on its overall balance of performance and generalization."
   ]
  },
  {
   "cell_type": "markdown",
   "metadata": {},
   "source": [
    "# 6. Explainable AI"
   ]
  },
  {
   "cell_type": "code",
   "execution_count": 61,
   "metadata": {},
   "outputs": [
    {
     "data": {
      "text/html": [
       "<div>\n",
       "<style scoped>\n",
       "    .dataframe tbody tr th:only-of-type {\n",
       "        vertical-align: middle;\n",
       "    }\n",
       "\n",
       "    .dataframe tbody tr th {\n",
       "        vertical-align: top;\n",
       "    }\n",
       "\n",
       "    .dataframe thead th {\n",
       "        text-align: right;\n",
       "    }\n",
       "</style>\n",
       "<table border=\"1\" class=\"dataframe\">\n",
       "  <thead>\n",
       "    <tr style=\"text-align: right;\">\n",
       "      <th></th>\n",
       "      <th>Feature</th>\n",
       "      <th>Importance</th>\n",
       "    </tr>\n",
       "  </thead>\n",
       "  <tbody>\n",
       "    <tr>\n",
       "      <th>0</th>\n",
       "      <td>Temperature</td>\n",
       "      <td>2179</td>\n",
       "    </tr>\n",
       "    <tr>\n",
       "      <th>1</th>\n",
       "      <td>day</td>\n",
       "      <td>1998</td>\n",
       "    </tr>\n",
       "    <tr>\n",
       "      <th>2</th>\n",
       "      <td>Fuel_Price</td>\n",
       "      <td>1917</td>\n",
       "    </tr>\n",
       "    <tr>\n",
       "      <th>3</th>\n",
       "      <td>CPI</td>\n",
       "      <td>1545</td>\n",
       "    </tr>\n",
       "    <tr>\n",
       "      <th>4</th>\n",
       "      <td>month</td>\n",
       "      <td>1496</td>\n",
       "    </tr>\n",
       "    <tr>\n",
       "      <th>5</th>\n",
       "      <td>Store</td>\n",
       "      <td>1315</td>\n",
       "    </tr>\n",
       "    <tr>\n",
       "      <th>6</th>\n",
       "      <td>Unemployment</td>\n",
       "      <td>1156</td>\n",
       "    </tr>\n",
       "    <tr>\n",
       "      <th>7</th>\n",
       "      <td>Holiday_Flag</td>\n",
       "      <td>199</td>\n",
       "    </tr>\n",
       "    <tr>\n",
       "      <th>8</th>\n",
       "      <td>year</td>\n",
       "      <td>195</td>\n",
       "    </tr>\n",
       "  </tbody>\n",
       "</table>\n",
       "</div>"
      ],
      "text/plain": [
       "        Feature  Importance\n",
       "0   Temperature        2179\n",
       "1           day        1998\n",
       "2    Fuel_Price        1917\n",
       "3           CPI        1545\n",
       "4         month        1496\n",
       "5         Store        1315\n",
       "6  Unemployment        1156\n",
       "7  Holiday_Flag         199\n",
       "8          year         195"
      ]
     },
     "execution_count": 61,
     "metadata": {},
     "output_type": "execute_result"
    }
   ],
   "source": [
    "importances = lgb_model.feature_importances_\n",
    "feature_names = X_train.columns\n",
    "\n",
    "importances_df = pd.DataFrame({'Feature': feature_names, 'Importance': importances})\n",
    "importances_df = importances_df.sort_values(by='Importance', ascending=False)\n",
    "importances_df.reset_index(drop=True, inplace=True)\n",
    "importances_df"
   ]
  },
  {
   "cell_type": "code",
   "execution_count": 62,
   "metadata": {},
   "outputs": [
    {
     "data": {
      "image/png": "[encoded data removed]",
      "text/plain": [
       "<Figure size 1200x800 with 1 Axes>"
      ]
     },
     "metadata": {},
     "output_type": "display_data"
    }
   ],
   "source": [
    "# plot\n",
    "plt.figure(figsize=(12, 8))\n",
    "sns.barplot(x='Importance', y='Feature', data=importances_df)\n",
    "plt.title('Feature Importances from LightGBM')\n",
    "plt.xlabel('Importance Score')\n",
    "plt.ylabel('Features')\n",
    "plt.show()"
   ]
  },
  {
   "cell_type": "code",
   "execution_count": 65,
   "metadata": {},
   "outputs": [
    {
     "data": {
      "image/png": "[encoded data removed]",
      "text/plain": [
       "<Figure size 1000x800 with 1 Axes>"
      ]
     },
     "metadata": {},
     "output_type": "display_data"
    }
   ],
   "source": [
    "# Feature importance plot\n",
    "lgb.plot_importance(model, importance_type='split', figsize=(10, 8))\n",
    "plt.show()"
   ]
  },
  {
   "cell_type": "code",
   "execution_count": 80,
   "metadata": {},
   "outputs": [
    {
     "data": {
      "image/png": "[encoded data removed]",
      "text/plain": [
       "<Figure size 1000x800 with 1 Axes>"
      ]
     },
     "metadata": {},
     "output_type": "display_data"
    }
   ],
   "source": [
    "# Feature importance plot\n",
    "lgb.plot_importance(model, importance_type='gain', figsize=(10, 8))\n",
    "plt.show()"
   ]
  },
  {
   "cell_type": "code",
   "execution_count": 67,
   "metadata": {},
   "outputs": [
    {
     "data": {
      "image/png": "[encoded data removed]",
      "text/plain": [
       "<Figure size 800x510 with 1 Axes>"
      ]
     },
     "metadata": {},
     "output_type": "display_data"
    }
   ],
   "source": [
    "# Shap values calculation\n",
    "import shap\n",
    "\n",
    "explainer = shap.TreeExplainer(lgb_model)\n",
    "shap_values = explainer.shap_values(X_train)\n",
    "\n",
    "# Summary plot (global feature importance)\n",
    "shap.summary_plot(shap_values, X_train, plot_type=\"bar\")\n",
    "\n",
    "\n"
   ]
  },
  {
   "cell_type": "code",
   "execution_count": 68,
   "metadata": {},
   "outputs": [
    {
     "data": {
      "image/png": "[encoded data removed]",
      "text/plain": [
       "<Figure size 800x510 with 2 Axes>"
      ]
     },
     "metadata": {},
     "output_type": "display_data"
    }
   ],
   "source": [
    "# Detailed summary plot (beeswarm)\n",
    "shap.summary_plot(shap_values, X_train)"
   ]
  },
  {
   "cell_type": "code",
   "execution_count": 71,
   "metadata": {},
   "outputs": [
    {
     "data": {
      "image/png": "[encoded data removed]",
      "text/plain": [
       "<Figure size 800x510 with 1 Axes>"
      ]
     },
     "metadata": {},
     "output_type": "display_data"
    }
   ],
   "source": [
    "# Decision plot for first 10 samples\n",
    "shap.decision_plot(explainer.expected_value, shap_values[:100], X_train.iloc[:100])"
   ]
  },
  {
   "cell_type": "code",
   "execution_count": 72,
   "metadata": {},
   "outputs": [
    {
     "data": {
      "image/png": "[encoded data removed]",
      "text/plain": [
       "<Figure size 800x600 with 3 Axes>"
      ]
     },
     "metadata": {},
     "output_type": "display_data"
    }
   ],
   "source": [
    "# Waterfall plot for a single prediction (requires shap.Explanation object)\n",
    "shap.plots.waterfall(shap.Explanation(values=shap_values[0], \n",
    "                                      base_values=explainer.expected_value, \n",
    "                                      data=X_train.iloc[0], \n",
    "                                      feature_names=X_train.columns.tolist()))"
   ]
  },
  {
   "cell_type": "code",
   "execution_count": 74,
   "metadata": {},
   "outputs": [
    {
     "data": {
      "image/png": "[encoded data removed]",
      "text/plain": [
       "<Figure size 800x700 with 2 Axes>"
      ]
     },
     "metadata": {},
     "output_type": "display_data"
    },
    {
     "data": {
      "text/plain": [
       "<Axes: xlabel='Instances'>"
      ]
     },
     "execution_count": 74,
     "metadata": {},
     "output_type": "execute_result"
    }
   ],
   "source": [
    "# Heatmap plot for first 100 samples (correct way)\n",
    "shap_heatmap_exp = shap.Explanation(\n",
    "    values=shap_values[:100],\n",
    "    base_values=explainer.expected_value,\n",
    "    data=X_train.iloc[:100],\n",
    "    feature_names=X_train.columns.tolist()\n",
    ")\n",
    "shap.plots.heatmap(shap_heatmap_exp)"
   ]
  },
  {
   "cell_type": "markdown",
   "metadata": {},
   "source": [
    "Summary:\n",
    "1. Store is consistently identified as important feature for predicting weekly sales.\n",
    "2. Other significant features include temperature, fuel price,CPI, unemployment and time based features such as month and day.\n",
    "3. Both feature importances and shap plots says similar information which increases confidence in the model's interpretability and reliability."
   ]
  },
  {
   "cell_type": "markdown",
   "metadata": {},
   "source": []
  }
 ],
 "metadata": {
  "kernelspec": {
   "display_name": "credit_risk_env",
   "language": "python",
   "name": "python3"
  },
  "language_info": {
   "codemirror_mode": {
    "name": "ipython",
    "version": 3
   },
   "file_extension": ".py",
   "mimetype": "text/x-python",
   "name": "python",
   "nbconvert_exporter": "python",
   "pygments_lexer": "ipython3",
   "version": "3.11.11"
  }
 },
 "nbformat": 4,
 "nbformat_minor": 2
}
